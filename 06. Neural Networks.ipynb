{
 "cells": [
  {
   "cell_type": "code",
   "execution_count": 1,
   "metadata": {},
   "outputs": [],
   "source": [
    "%config InlineBackend.figure_format = 'retina'\n",
    "import matplotlib.pyplot as plt\n",
    "import numpy as np\n",
    "np.set_printoptions(precision=3)\n",
    "np.set_printoptions(suppress=True)"
   ]
  },
  {
   "cell_type": "markdown",
   "metadata": {},
   "source": [
    "# Neural Networks"
   ]
  },
  {
   "cell_type": "markdown",
   "metadata": {},
   "source": [
    "### Interpreting the linear function as a neural network"
   ]
  },
  {
   "cell_type": "markdown",
   "metadata": {},
   "source": [
    "In the last example we tried to classify our data into two categories by maximising and minimizing the following function:"
   ]
  },
  {
   "cell_type": "markdown",
   "metadata": {},
   "source": [
    "\\begin{align}\n",
    "F = f(\\mathbf{X},\\mathbf{Y})=A\\mathbf{X}+B\\mathbf{Y}+C\n",
    "\\end{align}"
   ]
  },
  {
   "cell_type": "markdown",
   "metadata": {},
   "source": [
    "where, $\\mathbf{X}$ and $\\mathbf{Y}$ are the input vectors, and $A$, $B$ and $C$ are the parameters that we are trying to learn."
   ]
  },
  {
   "cell_type": "markdown",
   "metadata": {},
   "source": [
    "<img src=\"img/neural_networks_16.png\" alt=\"drawing\" width=\"400\"/>"
   ]
  },
  {
   "cell_type": "markdown",
   "metadata": {},
   "source": [
    "The function $f$, we have been using in our last example was not an arbitrary choice. This type of function is very common in machine learning, and it is used to model an element of a neural network called a neuron or a unit."
   ]
  },
  {
   "cell_type": "markdown",
   "metadata": {},
   "source": [
    "#### Origins of neural networks: Perceptrons"
   ]
  },
  {
   "cell_type": "markdown",
   "metadata": {},
   "source": [
    "Perceptron networks are the precursor of the contemporary neural networks we use today. Let's see how they work. A __perceptron__ is a small computational unit that takes several binary inputs, $X_1, X_2,…$, and produces a single binary output. The image below illustrates a perceptron with 3 binary inputs, although the number of inputs is not restricted. "
   ]
  },
  {
   "cell_type": "markdown",
   "metadata": {},
   "source": [
    "<img src=\"img/neural_networks_19.png\" alt=\"drawing\" width=\"350\"/>"
   ]
  },
  {
   "cell_type": "markdown",
   "metadata": {},
   "source": [
    "How can we use perceptrons to do something useful? Let's say that we are trying to formally decide whether to do something or not. For example, we might want to decide whether to go and see a movie, or not. We could for example think of three aspects that are relevant to the decision, and define them as questions. For example: is the weather nice or not, do your friends like it or not, do you like the main actor/actress or not. The answers to these questions could only be yes or no, or in computer terms 1 or 0. Such yes (1) or no (0) answers that are relevant to decide what the output will be are taken as inputs $X_1, X_2,…$ of the perceptron. The perceptron's binary output should evaluate the inputs and tell us whether to go to the movies (1) or not (0)."
   ]
  },
  {
   "cell_type": "markdown",
   "metadata": {},
   "source": [
    "Certain aspects of our decision making might be more or less important than the others. For example, an aspect reflected in the input $X_1$ could be more important to you than the aspect $X_2$. You could, for example, think that what your friends think of the movie is twice as important than how the weather is. To implement this in the perceptron model, each input is multiplied by a real number that reflects its importance. If an aspect $X_1$ is more important then the aspect $X_2$, then $X_2$  should be multiplied by a larger number than $X_1$. The number with which we multiply an input is called a _weight_. "
   ]
  },
  {
   "cell_type": "markdown",
   "metadata": {},
   "source": [
    "Finally, to decide whether the decision will be positive or negative, the weighted sum of all the inputs must be compared to some value which will be the final decision factor. We can temporarily call this value a _threshold_. Let's say that our threshold is the number `3.5`. Once we sum our decisions multiplied by their respective weights, we get a real number value. If the value is less or equal to `3.5`, the perceptron outputs `0`, which indicates we shouldn't do the thing. If the value is larger than `3.5`, the perceptron outputs `1` which indicates we should do the thing."
   ]
  },
  {
   "cell_type": "markdown",
   "metadata": {},
   "source": [
    "<img src=\"img/neural_networks_20.png\" alt=\"drawing\" width=\"400\"/>"
   ]
  },
  {
   "cell_type": "markdown",
   "metadata": {},
   "source": [
    "We can represent the output of a neuron algebraically:"
   ]
  },
  {
   "cell_type": "markdown",
   "metadata": {},
   "source": [
    "\\begin{eqnarray}\n",
    "  \\mbox{output} & = & \\left\\{ \\begin{array}{ll}\n",
    "      0 & \\mbox{if } \\sum_j W_j X_j \\leq \\text{ threshold} \\\\\n",
    "      1 & \\mbox{if } \\sum_j W_j X_j > \\text{ threshold}\n",
    "      \\end{array} \\right.\n",
    "\\end{eqnarray}"
   ]
  },
  {
   "cell_type": "markdown",
   "metadata": {},
   "source": [
    "Let's simplify the way we describe perceptrons, by making two notational changes. The first change is to write $\\sum_j W_j X_j$ in terms of vectors as a dot product, $w \\cdot x \\equiv \\sum_j w_j x_j$, where $w$ and $x$ are vectors whose components are the weights and inputs, respectively. The second change is to move the threshold to the other side of the inequality and to replace it by what's known as the perceptron's __bias__, $B \\equiv\n",
    "-\\mbox{threshold}$. Using the bias instead of the threshold, the perceptron rule can be rewritten:"
   ]
  },
  {
   "cell_type": "markdown",
   "metadata": {},
   "source": [
    "\\begin{eqnarray}\n",
    "  \\mbox{output} = \\left\\{ \n",
    "    \\begin{array}{ll} \n",
    "      0 & \\mbox{if } W\\cdot X + B \\leq 0 \\\\\n",
    "      1 & \\mbox{if } W\\cdot X + B > 0\n",
    "    \\end{array}\n",
    "  \\right.\n",
    "\\end{eqnarray}"
   ]
  },
  {
   "cell_type": "markdown",
   "metadata": {},
   "source": [
    "This change is reflected in the following diagram."
   ]
  },
  {
   "cell_type": "markdown",
   "metadata": {},
   "source": [
    "<img src=\"img/neural_networks_21.png\" alt=\"drawing\" width=\"400\"/>"
   ]
  },
  {
   "cell_type": "markdown",
   "metadata": {},
   "source": [
    "You can think of the bias as a measure of how easy it is to get the perceptron to output 1. For a perceptron with a really big positive bias, it's extremely easy for the perceptron to output 1, as the weighted sum plus a large positive value, easily gets larger than 0. But if the bias is very negative, then it's difficult for the perceptron to output a 1, as the large negative value will pull the output to be less than 0."
   ]
  },
  {
   "cell_type": "markdown",
   "metadata": {},
   "source": [
    "If we would like to use perceptrons for classification like we did before, we run into a problem. To minimise or maximise a function of multiple inputs we need partial derivatives. The derivative shows us how the output of the function changes in terms of inputs if we slightly nudge one of the inputs. The problem with perceptrons is that their binary decision making aspect make them intrinsically insensitive to the small changes of inputs. To differentiate a function, after all, it needs to be smooth and continuous, not discreete. A tiny change of one of our inputs can cause the output of a neuron to abruptly change from 0 to 1 or vice versa. That will then spawn over the entire network of neurons and cause unpredictable changes."
   ]
  },
  {
   "cell_type": "markdown",
   "metadata": {},
   "source": [
    "We can overcome this problem by changing the architecture of our neural network. Instead of binary inputs, and outputs, we can now think of all the values within the neuron as *real numbers*. Instead of thinking of the criteria for going to the movies in terms of simple yes or no, we can refine think of it in terms of probabilities, where 0 is the least probable, and 1 is the most probable, but there are also values in between to choose from. This also applies to the output which no longer can be expressed in binary terms. This part we replace with the so called _activation function_, which maps its input smoothly to an output in between 0 and 1.  With this change, the small changes in the neuron's weights and bias cause only a small change in the neuron's output. That's the crucial fact which will allow a network of neurons to learn."
   ]
  },
  {
   "cell_type": "markdown",
   "metadata": {},
   "source": [
    "<img src=\"img/neural_networks_22.png\" alt=\"drawing\" width=\"400\"/>"
   ]
  },
  {
   "cell_type": "markdown",
   "metadata": {},
   "source": [
    "### Classification by using a two-layer Neural Network"
   ]
  },
  {
   "cell_type": "markdown",
   "metadata": {},
   "source": [
    "In our classification taks, we used the function  $F = f(\\mathbf{X},\\mathbf{Y})=A\\mathbf{X}+B\\mathbf{Y}+C$. Now you can see that this function is a simplified neuron without the activation function. Its inputs are $\\mathbf{X}$ and $\\mathbf{Y}$, their corresponding weights are $A$ and $B$, and $C$ represents the bias. "
   ]
  },
  {
   "cell_type": "markdown",
   "metadata": {},
   "source": [
    "A neural network works by connecting multiple neurons in a network. Unlike a single neuron, a network of neurons is capable of creating smoother, non-linear decision boundaries between data points belonging to different categories we are interested to predict. Our network will contain 4 neurons, distributed in 3 layers. The first layer contains the inputs, and is called the __input layer__. The second layer, called a __hidden layer__, comprises of 2 identical neurons, $n_1$, and $n_2$, each multiplying our input data points $\\mathbf{X}$ and $\\mathbf{Y}$ by a different set of parameters $A_i, B_i, C_i$, where $i=1,2$. The third layer, called the __output layer__ contains a single neuron $s$ that multiplies the outputs $N_1$, and $N_2$ of the previous neurons  by a new set of parameters $A_3$, $B_3$, and $C_3$, and outputs the result $S$, like shown on the following diagram."
   ]
  },
  {
   "cell_type": "markdown",
   "metadata": {},
   "source": [
    "<img src=\"img/neural_networks_23.png\" alt=\"drawing\" width=\"650\"/>"
   ]
  },
  {
   "cell_type": "markdown",
   "metadata": {},
   "source": [
    "In machine learning this scheme is usually simplified as following:"
   ]
  },
  {
   "cell_type": "markdown",
   "metadata": {},
   "source": [
    "<img src=\"img/neural_networks_24.png\" alt=\"drawing\" width=\"400\"/>"
   ]
  },
  {
   "cell_type": "markdown",
   "metadata": {},
   "source": [
    "As an activation function we will again be using sigmoid function $\\sigma(x)$ defined as:"
   ]
  },
  {
   "cell_type": "markdown",
   "metadata": {},
   "source": [
    "$$\n",
    "\\sigma = \\frac{1}{1+e^{-x}}\\\\\n",
    "$$"
   ]
  },
  {
   "cell_type": "markdown",
   "metadata": {},
   "source": [
    "and defined in code as:"
   ]
  },
  {
   "cell_type": "code",
   "execution_count": 2,
   "metadata": {},
   "outputs": [],
   "source": [
    "def sigmoid(x):\n",
    "    return 1 / (1 + np.exp(-x))"
   ]
  },
  {
   "cell_type": "markdown",
   "metadata": {},
   "source": [
    "Let us construct a new dataset containing 2D points:"
   ]
  },
  {
   "cell_type": "code",
   "execution_count": 3,
   "metadata": {},
   "outputs": [],
   "source": [
    "data2 = np.array([[ 1.2, 0.7],\n",
    "                 [-0.3,-0.5],\n",
    "                 [ 3.0, 0.1],\n",
    "                 [-0.1,-1.0],\n",
    "                 [-0.0, 1.1],\n",
    "                 [ 2.1,-1.3],\n",
    "                 [ 3.1,-1.8],\n",
    "                 [ 1.1,-0.1],\n",
    "                 [ 1.5,-2.2],\n",
    "                 [ 4.0,-1.0]])"
   ]
  },
  {
   "cell_type": "markdown",
   "metadata": {},
   "source": [
    "With each point, there is a label `1` or `-1` is associated:"
   ]
  },
  {
   "cell_type": "code",
   "execution_count": 4,
   "metadata": {},
   "outputs": [],
   "source": [
    "labels2 = np.array([ 1,\n",
    "                    -1,\n",
    "                     1,\n",
    "                    -1,\n",
    "                    -1,\n",
    "                     1,\n",
    "                    -1,\n",
    "                     1,\n",
    "                    -1,\n",
    "                    -1])"
   ]
  },
  {
   "cell_type": "markdown",
   "metadata": {},
   "source": [
    "We can plot this data by using the function `plot_data`:"
   ]
  },
  {
   "cell_type": "code",
   "execution_count": 5,
   "metadata": {
    "code_folding": [
     0
    ]
   },
   "outputs": [],
   "source": [
    "def plot_data(data, labels):\n",
    "    fig = plt.figure(figsize=(5,5))\n",
    "    ax = fig.add_subplot(111)\n",
    "    ax.scatter(data[:,0], data[:,1], c=labels, s=50,  cmap=plt.cm.bwr,zorder=50)\n",
    "    nudge = 0.08\n",
    "    for i in range(data.shape[0]):\n",
    "        d = data[i]\n",
    "        ax.annotate(f'{i}',(d[0]+nudge,d[1]+nudge))\n",
    "    ax.set_aspect('equal', 'datalim')\n",
    "    plt.show()"
   ]
  },
  {
   "cell_type": "code",
   "execution_count": 6,
   "metadata": {},
   "outputs": [
    {
     "data": {
      "image/png": "[encoded data removed]",
      "text/plain": [
       "<Figure size 360x360 with 1 Axes>"
      ]
     },
     "metadata": {
      "image/png": {
       "height": 304,
       "width": 316
      },
      "needs_background": "light"
     },
     "output_type": "display_data"
    }
   ],
   "source": [
    "plot_data(data2, labels2)"
   ]
  },
  {
   "cell_type": "markdown",
   "metadata": {},
   "source": [
    "Here, the data is structured such that a linear classifier wouldn't be able to apropriately classify it."
   ]
  },
  {
   "cell_type": "markdown",
   "metadata": {},
   "source": [
    "Now let's initialise the parameters of the network. This be done very efficiently with matrices, but here for the sake of clarifying the procedure we will initialise them manually with separate variables that take normally distributed random values between 0 and 1:"
   ]
  },
  {
   "cell_type": "code",
   "execution_count": 7,
   "metadata": {},
   "outputs": [
    {
     "name": "stdout",
     "output_type": "stream",
     "text": [
      "0.7566485514420692 0.002725779569172881 0.4076987155211042 0.10770685308094682 -0.8309211754969811 0.17043072781064242 -2.0621777482806545 0.620219798994706 1.43868497651903\n"
     ]
    }
   ],
   "source": [
    "# generating a random data set\n",
    "rnd = np.random.normal(size=9)\n",
    "\n",
    "# hidden layer neuron 1\n",
    "A1 = rnd[0] #weight for X\n",
    "B1 = rnd[1] #weight for Y\n",
    "C1 = rnd[2] #bias\n",
    "\n",
    "# hidden layer neuron 2\n",
    "A2 = rnd[3] #weight for X\n",
    "B2 = rnd[4] #weight for Y\n",
    "C2 = rnd[5] #bias\n",
    "\n",
    "# output layer neuron\n",
    "A3 = rnd[6] #weight for n1\n",
    "B3 = rnd[7] #weight for n2\n",
    "C3 = rnd[8] # bias\n",
    "\n",
    "print (A1, B1, C1, A2, B2, C2, A3, B3, C3)"
   ]
  },
  {
   "cell_type": "markdown",
   "metadata": {},
   "source": [
    "#### Computing the forward pass"
   ]
  },
  {
   "cell_type": "markdown",
   "metadata": {},
   "source": [
    "With the given weights, biases and data points, we need to compute the final output (activation) of the function  $S = s(\\mathbf{X},\\mathbf{Y})$. We can accomplish that manually or by evaluating a function `forward_pass`:"
   ]
  },
  {
   "cell_type": "code",
   "execution_count": 8,
   "metadata": {
    "code_folding": []
   },
   "outputs": [],
   "source": [
    "def forward_pass(A1,A2,A3,B1,B2,B3,C1,C2,C3,X,Y):\n",
    "    N1 = sigmoid(A1*X + B1*Y + C1) # 1st neuron\n",
    "    N2 = sigmoid(A2*X + B2*Y + C2) # 2nd neuron\n",
    "    S = A3*N1 + B3*N2 + C3 # final activation\n",
    "    return S"
   ]
  },
  {
   "cell_type": "markdown",
   "metadata": {},
   "source": [
    "Let's do it manually first:"
   ]
  },
  {
   "cell_type": "markdown",
   "metadata": {},
   "source": [
    "If we take the first data point `[ 1.2, 0.7]`:"
   ]
  },
  {
   "cell_type": "code",
   "execution_count": 9,
   "metadata": {},
   "outputs": [
    {
     "data": {
      "text/plain": [
       "(1.2, 0.7)"
      ]
     },
     "execution_count": 9,
     "metadata": {},
     "output_type": "execute_result"
    }
   ],
   "source": [
    "X, Y = data2[0]\n",
    "X, Y"
   ]
  },
  {
   "cell_type": "code",
   "execution_count": 10,
   "metadata": {},
   "outputs": [],
   "source": [
    "z1 = A1*X + B1*Y + C1\n",
    "z2 = A2*X + B2*Y + C2\n",
    "N1 = sigmoid(z1) # 1st neuron\n",
    "N2 = sigmoid(z2) # 2nd neuron\n",
    "S = A3*N1 + B3*N2 + C3 # final activation"
   ]
  },
  {
   "cell_type": "markdown",
   "metadata": {},
   "source": [
    "the output will be:"
   ]
  },
  {
   "cell_type": "code",
   "execution_count": 11,
   "metadata": {},
   "outputs": [
    {
     "data": {
      "text/plain": [
       "0.07875823603547283"
      ]
     },
     "execution_count": 11,
     "metadata": {},
     "output_type": "execute_result"
    }
   ],
   "source": [
    "S"
   ]
  },
  {
   "cell_type": "markdown",
   "metadata": {},
   "source": [
    "We should get the same result by evaluating the function `forward_pass`:"
   ]
  },
  {
   "cell_type": "code",
   "execution_count": 12,
   "metadata": {},
   "outputs": [
    {
     "data": {
      "text/plain": [
       "0.07875823603547283"
      ]
     },
     "execution_count": 12,
     "metadata": {},
     "output_type": "execute_result"
    }
   ],
   "source": [
    "forward_pass(A1,A2,A3,B1,B2,B3,C1,C2,C3,X,Y)"
   ]
  },
  {
   "cell_type": "markdown",
   "metadata": {},
   "source": [
    "#### Computing the backward pass"
   ]
  },
  {
   "cell_type": "markdown",
   "metadata": {},
   "source": [
    "By analysing the image, let's compute the derivatives:"
   ]
  },
  {
   "cell_type": "markdown",
   "metadata": {},
   "source": [
    "<img src=\"img/neural_networks_23.png\" alt=\"drawing\" width=\"650\"/>"
   ]
  },
  {
   "cell_type": "markdown",
   "metadata": {},
   "source": [
    "The simplest to compute are the derivatives in respect to the weights $A_3$, $B_3$, and the bias $C_3$, $\\frac{\\partial S}{\\partial A_3}$, $\\frac{\\partial S}{\\partial B_3}$ and $\\frac{\\partial S}{\\partial C_3}$:"
   ]
  },
  {
   "cell_type": "markdown",
   "metadata": {},
   "source": [
    "\\begin{align*}\n",
    "\\frac{\\partial S}{\\partial A_3} &=N_1; &\\frac{\\partial S}{\\partial B_3} &=N2; &\\frac{\\partial S}{\\partial C_3}&=1;\\\\\\\\\n",
    "\\end{align*}"
   ]
  },
  {
   "cell_type": "code",
   "execution_count": 13,
   "metadata": {},
   "outputs": [
    {
     "name": "stdout",
     "output_type": "stream",
     "text": [
      "dA3: 0.78877963667698\n",
      "dB3: 0.4299718825501192\n",
      "dC3: 1\n"
     ]
    }
   ],
   "source": [
    "dA3, dB3, dC3 = N1, N2, 1\n",
    "print (f'dA3: {dA3}\\ndB3: {dB3}\\ndC3: {dC3}')"
   ]
  },
  {
   "cell_type": "markdown",
   "metadata": {},
   "source": [
    "In order to proceed to the weights and biases in the first layer, we need to compute derivatives in respect to the activations $N_1$ and $N_2$: $\\frac{\\partial S}{\\partial N_1}$ and $\\frac{\\partial S}{\\partial N_2}$:"
   ]
  },
  {
   "cell_type": "markdown",
   "metadata": {},
   "source": [
    "\\begin{align*}\n",
    "\\frac{\\partial S}{\\partial N_1} &=A_3 &\\frac{\\partial S}{\\partial N_2} &=B_3\n",
    "\\end{align*}"
   ]
  },
  {
   "cell_type": "code",
   "execution_count": 14,
   "metadata": {},
   "outputs": [
    {
     "name": "stdout",
     "output_type": "stream",
     "text": [
      "dN1: -2.0621777482806545\n",
      "dN2: 0.620219798994706\n"
     ]
    }
   ],
   "source": [
    "dN1, dN2 = A3, B3\n",
    "print (f'dN1: {dN1}\\ndN2: {dN2}')"
   ]
  },
  {
   "cell_type": "markdown",
   "metadata": {},
   "source": [
    "To determine the derivatives in respect to the bias $C_1$ and the weights $A_1$ and $B_1$ we need to use chain rule as before:  "
   ]
  },
  {
   "cell_type": "markdown",
   "metadata": {},
   "source": [
    "\\begin{align*}\n",
    "\\frac{\\partial S}{\\partial C_1} &=\\frac{\\partial S}{\\partial N_1}*\\frac{\\partial N_1}{\\partial z_1}*1\n",
    "&\\frac{\\partial S}{\\partial A_1} &=\\frac{\\partial S}{\\partial N_1}*\\frac{\\partial N_1}{\\partial z_1}*1*\\mathbf{X}; &\\frac{\\partial S}{\\partial B_1} &=\\frac{\\partial S}{\\partial N_1}*\\frac{\\partial N_1}{\\partial z_1}*1*\\mathbf{Y};\\\\\\\\\n",
    "\\end{align*}"
   ]
  },
  {
   "cell_type": "markdown",
   "metadata": {},
   "source": [
    "\\begin{align*}\n",
    "\\frac{\\partial S}{\\partial C_1} &=\\frac{\\partial S}{\\partial N_1}*N_1*(1-N_1);\n",
    "&\\frac{\\partial S}{\\partial A_1} &=\\frac{\\partial S}{\\partial N_1}*N_1*(1-N_1)*\\mathbf{X}; &\\frac{\\partial S}{\\partial B_1} &=\\frac{\\partial S}{\\partial N_1}*N_1*(1-N_1)*\\mathbf{Y};\\\\\\\\\n",
    "\\end{align*}"
   ]
  },
  {
   "cell_type": "markdown",
   "metadata": {},
   "source": [
    "As the term $\\frac{\\partial S}{\\partial N_1}*N_1*(1-N_1)$ figures in all three partial derivatives, we can take that as an advantage and make it into a common variable `dZ1`:"
   ]
  },
  {
   "cell_type": "code",
   "execution_count": 15,
   "metadata": {},
   "outputs": [
    {
     "data": {
      "text/plain": [
       "-0.3435718487979292"
      ]
     },
     "execution_count": 15,
     "metadata": {},
     "output_type": "execute_result"
    }
   ],
   "source": [
    "dZ1 = dN1 * N1*(1-N1)\n",
    "dZ1"
   ]
  },
  {
   "cell_type": "markdown",
   "metadata": {},
   "source": [
    "This makes it east to compute the derivatives $\\frac{\\partial S}{\\partial C_1}$, $\\frac{\\partial S}{\\partial A_1}$, and $\\frac{\\partial S}{\\partial B_1}$:"
   ]
  },
  {
   "cell_type": "code",
   "execution_count": 16,
   "metadata": {},
   "outputs": [
    {
     "name": "stdout",
     "output_type": "stream",
     "text": [
      "dA1: -0.412286218557515\n",
      "dB1: -0.2405002941585504\n",
      "dC1: -0.3435718487979292\n"
     ]
    }
   ],
   "source": [
    "dA1 = dZ1*X\n",
    "dB1 = dZ1*Y\n",
    "dC1 = dZ1*1\n",
    "print (f'dA1: {dA1}\\ndB1: {dB1}\\ndC1: {dC1}')"
   ]
  },
  {
   "cell_type": "markdown",
   "metadata": {},
   "source": [
    "As in the previous case, to determine the derivatives in respect to the bias $C_2$ and the weights $A_2$ and $B_2$ we need to use chain rule:"
   ]
  },
  {
   "cell_type": "markdown",
   "metadata": {},
   "source": [
    "\\begin{align*}\n",
    "\\frac{\\partial S}{\\partial C_2} &=\\frac{\\partial S}{\\partial N_2}*\\frac{\\partial N_2}{\\partial z_2}*1;\n",
    "&\\frac{\\partial S}{\\partial A_2} &=\\frac{\\partial S}{\\partial N_2}*\\frac{\\partial N_2}{\\partial z_2}*1*\\mathbf{X}; &\\frac{\\partial S}{\\partial B_2} &=\\frac{\\partial S}{\\partial N_2}*\\frac{\\partial N_2}{\\partial z_2}*1*\\mathbf{Y};\\\\\\\\\n",
    "\\end{align*}"
   ]
  },
  {
   "cell_type": "markdown",
   "metadata": {},
   "source": [
    "\\begin{align*}\n",
    "\\frac{\\partial S}{\\partial C_2} &=\\frac{\\partial S}{\\partial N_2}*N_2*(1-N_2);\n",
    "&\\frac{\\partial S}{\\partial A_2} &=\\frac{\\partial S}{\\partial N_2}*N_2*(1-N_2)*\\mathbf{X}; &\\frac{\\partial S}{\\partial B_2} &=\\frac{\\partial S}{\\partial N_2}*N_1*(1-N_2)*\\mathbf{Y};\\\\\\\\\n",
    "\\end{align*}"
   ]
  },
  {
   "cell_type": "markdown",
   "metadata": {},
   "source": [
    "As the term $\\frac{\\partial S}{\\partial N_2}*N_2*(1-N_2)$ figures in all three partial derivatives, we can take that as an advantage and make it into a common variable `dZ2`:"
   ]
  },
  {
   "cell_type": "code",
   "execution_count": 17,
   "metadata": {},
   "outputs": [
    {
     "data": {
      "text/plain": [
       "0.15201343078338642"
      ]
     },
     "execution_count": 17,
     "metadata": {},
     "output_type": "execute_result"
    }
   ],
   "source": [
    "dZ2 = dN2 * N2*(1-N2)\n",
    "dZ2"
   ]
  },
  {
   "cell_type": "markdown",
   "metadata": {},
   "source": [
    "This makes it east to compute the derivatives $\\frac{\\partial S}{\\partial C_2}$, $\\frac{\\partial S}{\\partial A_2}$, and $\\frac{\\partial S}{\\partial B_2}$:"
   ]
  },
  {
   "cell_type": "code",
   "execution_count": 18,
   "metadata": {},
   "outputs": [
    {
     "name": "stdout",
     "output_type": "stream",
     "text": [
      "dA2: 0.18241611694006368\n",
      "dB2: 0.10640940154837049\n",
      "dC2: 0.15201343078338642\n"
     ]
    }
   ],
   "source": [
    "dA2 = dZ2*X\n",
    "dB2 = dZ2*Y\n",
    "dC2 = dZ2*1\n",
    "print (f'dA2: {dA2}\\ndB2: {dB2}\\ndC2: {dC2}')"
   ]
  },
  {
   "cell_type": "markdown",
   "metadata": {},
   "source": [
    "Depending on the given label, we will need to multiply our derivatives `dA1`, `dB1`, `dC1`, `dA2`, `dB2`, `dC2`, `dA3`, `dB3` and `dC3` with either `-1` or `+1` depending on the given situation. In the algorithm, we will introduce a new variable `pull` that can be set to  `1` or `-1`. "
   ]
  },
  {
   "cell_type": "markdown",
   "metadata": {},
   "source": [
    "Now let's test if we are able to successfully increase the function $S=s(\\mathbf{X},\\mathbf{Y})$. Our original score was:"
   ]
  },
  {
   "cell_type": "code",
   "execution_count": 19,
   "metadata": {
    "scrolled": true
   },
   "outputs": [
    {
     "data": {
      "text/plain": [
       "0.07875823603547283"
      ]
     },
     "execution_count": 19,
     "metadata": {},
     "output_type": "execute_result"
    }
   ],
   "source": [
    "forward_pass(A1,A2,A3,B1,B2,B3,C1,C2,C3,X,Y)"
   ]
  },
  {
   "cell_type": "markdown",
   "metadata": {},
   "source": [
    "In order to gradually maximize the function $s$ towards our desired result, we need to update all of our  parameters (weights and biases). This is done by adding to the parameter's value the value of its partial derivative. To achieve this gradually in small steps, we multiply the value of the partial derivative by a a small number (step)."
   ]
  },
  {
   "cell_type": "code",
   "execution_count": 20,
   "metadata": {},
   "outputs": [],
   "source": [
    "step_size = 0.01\n",
    "A1 = A1 + dA1 * step_size\n",
    "B1 = B1 + dB1 * step_size\n",
    "C1 = C1 + dC1 * step_size\n",
    "A2 = A2 + dA2 * step_size\n",
    "B2 = B2 + dB2 * step_size\n",
    "C2 = C2 + dC2 * step_size\n",
    "A3 = A3 + dA3 * step_size\n",
    "B3 = B3 + dB3 * step_size\n",
    "C3 = C3 + dC3 * step_size"
   ]
  },
  {
   "cell_type": "markdown",
   "metadata": {},
   "source": [
    "If we now evaluate the function $f(\\mathbf{X},\\mathbf{Y})$, with the updated parameters $A$, $B$, and $C$, we get:"
   ]
  },
  {
   "cell_type": "code",
   "execution_count": 21,
   "metadata": {},
   "outputs": [
    {
     "data": {
      "text/plain": [
       "0.10096610562552"
      ]
     },
     "execution_count": 21,
     "metadata": {},
     "output_type": "execute_result"
    }
   ],
   "source": [
    "forward_pass(A1,A2,A3,B1,B2,B3,C1,C2,C3,X,Y)"
   ]
  },
  {
   "cell_type": "markdown",
   "metadata": {},
   "source": [
    "This result should better then the original result!"
   ]
  },
  {
   "cell_type": "markdown",
   "metadata": {},
   "source": [
    "***"
   ]
  },
  {
   "cell_type": "markdown",
   "metadata": {},
   "source": [
    "#### A simple neural network algorithm"
   ]
  },
  {
   "cell_type": "markdown",
   "metadata": {},
   "source": [
    "Now we can put these elements together in a working algorithm:"
   ]
  },
  {
   "cell_type": "code",
   "execution_count": 22,
   "metadata": {
    "code_folding": [
     80,
     87,
     102
    ],
    "scrolled": false
   },
   "outputs": [],
   "source": [
    "def train_linear_classifier(data, labels, step_size, reg_strength, no_loops, iter_info):\n",
    "    rnd = np.random.normal(size=9)\n",
    "\n",
    "    # hidden layer neuron 1\n",
    "    A1 = rnd[0] #weight for X\n",
    "    B1 = rnd[1] #weight for Y\n",
    "    C1 = rnd[2] #bias\n",
    "\n",
    "    # hidden layer neuron 2\n",
    "    A2 = rnd[3] #weight for X\n",
    "    B2 = rnd[4] #weight for Y\n",
    "    C2 = rnd[5] #bias\n",
    "\n",
    "    # output layer neuron\n",
    "    A3 = rnd[6] #weight for n1\n",
    "    B3 = rnd[7] #weight for n2\n",
    "    C3 = rnd[8] # bias\n",
    "    \n",
    "    grid = create_meshgrid(data)\n",
    "\n",
    "    for i in range(no_loops):\n",
    "        # get a single random data point\n",
    "        index = np.random.randint(data.shape[0])\n",
    "        # get X, Y of that data point and its label\n",
    "        X,Y = data[index]\n",
    "        label = labels[index]\n",
    "\n",
    "        # forward pass\n",
    "        N1 = sigmoid(A1*X + B1*Y + C1) # 1st neuron\n",
    "        N2 = sigmoid(A2*X + B2*Y + C2) # 2nd neuron\n",
    "        S = A3*N1 + B3*N2 + C3 # final activation\n",
    "\n",
    "        pull = 0.0\n",
    "        if (label == 1 and S < 1):\n",
    "            pull = 1.0\n",
    "        if (label ==-1 and S > -1):\n",
    "            pull = -1.0\n",
    "\n",
    "        # backpropagating through the network\n",
    "        # output layer weights and biases\n",
    "        dA3, dB3, dC3 = pull*N1, pull*N2, pull*1\n",
    "\n",
    "        #second layer activations\n",
    "        dN1, dN2 = pull*A3, pull*B3\n",
    "\n",
    "        # intermediate values\n",
    "        dz1 = dN1 * N1 * (1 - N1)\n",
    "        dz2 = dN2 * N2 * (1 - N2)\n",
    "\n",
    "        # second layer neuron 1\n",
    "        dA1 = dz1*X\n",
    "        dB1 = dz1*Y\n",
    "        dC1 = dz1*1\n",
    "\n",
    "        # second layer neuron 2\n",
    "        dA2 = dz2*X\n",
    "        dB2 = dz2*Y\n",
    "        dC2 = dz2*1\n",
    "\n",
    "        #regularization\n",
    "        dA1 += -A1*reg_strength; dA2 += -A2*reg_strength; dA3 += -A3*reg_strength;\n",
    "        dB1 += -B1*reg_strength; dB2 += -B2*reg_strength; dB3 += -B3*reg_strength;\n",
    "\n",
    "        # finally, do the parameter update\n",
    "        A1 += step_size * dA1; \n",
    "        B1 += step_size * dB1; \n",
    "        C1 += step_size * dC1;\n",
    "        A2 += step_size * dA2; \n",
    "        B2 += step_size * dB2;\n",
    "        C2 += step_size * dC2;\n",
    "        A3 += step_size * dA3; \n",
    "        B3 += step_size * dB3; \n",
    "        C3 += step_size * dC3;\n",
    "\n",
    "        if (i%iter_info==0):\n",
    "            accuracy = eval_accuracy_neural((A1,A2,A3,B1,B2,B3,C1,C2,C3),data,labels)\n",
    "            plot_neural_simple((A1,A2,A3,B1,B2,B3,C1,C2,C3),grid, data, labels, i, accuracy)\n",
    "        \n",
    "    return (A1, A2, A3, B1, B2, B3, C1, C2, C3)\n",
    "            \n",
    "def create_meshgrid(data):\n",
    "    h = 0.02\n",
    "    x_min, x_max = data[:, 0].min() - 1, data[:, 0].max() + 1\n",
    "    y_min, y_max = data[:, 1].min() - 1, data[:, 1].max() + 1\n",
    "    xx, yy = np.meshgrid(np.arange(x_min, x_max, h), np.arange(y_min, y_max, h))\n",
    "    return (xx,yy,np.ones(xx.shape))\n",
    "\n",
    "def eval_accuracy_neural(params, data, labels):\n",
    "    A1, A2, A3, B1, B2, B3, C1, C2, C3 = params\n",
    "    num_correct = 0;\n",
    "    data_len = data.shape[0]\n",
    "    \n",
    "    for i in range(data_len):\n",
    "        X,Y = data[i]\n",
    "        true_label = labels[i]\n",
    "        score = forward_pass(A1, A2, A3, B1, B2, B3, C1, C2, C3, X, Y)\n",
    "        predicted_label = 1 if score > 0 else -1\n",
    "        \n",
    "        if (predicted_label == true_label):\n",
    "            num_correct += 1\n",
    "    return num_correct / data_len\n",
    "\n",
    "def plot_neural_simple(params, grid,data, labels, iteration, accuracy):\n",
    "    nudge = 0.06\n",
    "    A1, A2, A3, B1, B2, B3, C1, C2, C3 = params\n",
    "    xx,yy,Z = grid\n",
    "    \n",
    "    for i in range(xx.shape[0]): # row\n",
    "        for j in range(yy.shape[1]): #column\n",
    "            X, Y = xx[i][j],yy[i][j]\n",
    "            score = forward_pass(A1, A2, A3, B1, B2, B3, C1, C2, C3, X, Y) \n",
    "            score = 1 if score > 0 else -1\n",
    "            Z[i][j] = score\n",
    "\n",
    "    fig = plt.figure(figsize=(5,5))\n",
    "    ax = fig.add_subplot(111)\n",
    "    plt.title(f'accuracy at the iteration {iteration}: {accuracy}')\n",
    "    ax.contourf(xx, yy, Z, cmap=plt.cm.binary, alpha=0.1, zorder=15)\n",
    "    ax.scatter(data[:, 0], data[:, 1], c=labels, s=50,  cmap=plt.cm.bwr,zorder=50)\n",
    "    ax.set_aspect('equal')\n",
    "    for i in range(data.shape[0]):\n",
    "        d = data[i]\n",
    "        ax.annotate(f'{i}',(d[0]+nudge,d[1]+nudge))\n",
    "    plt.xlim(xx.min(), xx.max())\n",
    "    plt.ylim(yy.min(), yy.max())\n",
    "    plt.show()"
   ]
  },
  {
   "cell_type": "code",
   "execution_count": 23,
   "metadata": {
    "scrolled": false
   },
   "outputs": [
    {
     "data": {
      "image/png": "[encoded data removed]",
      "text/plain": [
       "<Figure size 360x360 with 1 Axes>"
      ]
     },
     "metadata": {
      "image/png": {
       "height": 281,
       "width": 316
      },
      "needs_background": "light"
     },
     "output_type": "display_data"
    },
    {
     "data": {
      "image/png": "[encoded data removed]",
      "text/plain": [
       "<Figure size 360x360 with 1 Axes>"
      ]
     },
     "metadata": {
      "image/png": {
       "height": 281,
       "width": 316
      },
      "needs_background": "light"
     },
     "output_type": "display_data"
    },
    {
     "data": {
      "image/png": "[encoded data removed]",
      "text/plain": [
       "<Figure size 360x360 with 1 Axes>"
      ]
     },
     "metadata": {
      "image/png": {
       "height": 281,
       "width": 316
      },
      "needs_background": "light"
     },
     "output_type": "display_data"
    },
    {
     "data": {
      "image/png": "[encoded data removed]",
      "text/plain": [
       "<Figure size 360x360 with 1 Axes>"
      ]
     },
     "metadata": {
      "image/png": {
       "height": 281,
       "width": 316
      },
      "needs_background": "light"
     },
     "output_type": "display_data"
    },
    {
     "data": {
      "image/png": "[encoded data removed]",
      "text/plain": [
       "<Figure size 360x360 with 1 Axes>"
      ]
     },
     "metadata": {
      "image/png": {
       "height": 281,
       "width": 316
      },
      "needs_background": "light"
     },
     "output_type": "display_data"
    },
    {
     "data": {
      "image/png": "[encoded data removed]",
      "text/plain": [
       "<Figure size 360x360 with 1 Axes>"
      ]
     },
     "metadata": {
      "image/png": {
       "height": 281,
       "width": 316
      },
      "needs_background": "light"
     },
     "output_type": "display_data"
    }
   ],
   "source": [
    "train_2 = train_linear_classifier(data2, labels2, 0.1, 0.001, 4001, 800)"
   ]
  },
  {
   "cell_type": "code",
   "execution_count": 24,
   "metadata": {},
   "outputs": [
    {
     "name": "stdout",
     "output_type": "stream",
     "text": [
      "data point 0: real label : 1, pred. label: 1, True\n",
      "data point 1: real label : -1, pred. label: -1, True\n",
      "data point 2: real label : 1, pred. label: 1, True\n",
      "data point 3: real label : -1, pred. label: -1, True\n",
      "data point 4: real label : -1, pred. label: -1, True\n",
      "data point 5: real label : 1, pred. label: 1, True\n",
      "data point 6: real label : -1, pred. label: -1, True\n",
      "data point 7: real label : 1, pred. label: 1, True\n",
      "data point 8: real label : -1, pred. label: -1, True\n",
      "data point 9: real label : -1, pred. label: -1, True\n"
     ]
    }
   ],
   "source": [
    "a1,a2,a3,b1,b2,b3,c1,c2,c3 = train_2\n",
    "for i, ((x,y), label) in enumerate(zip(data2, labels2)):\n",
    "    s = forward_pass(a1,a2,a3,b1,b2,b3,c1,c2,c3,x,y)\n",
    "    s = 1 if s > 0 else -1\n",
    "    print (f'data point {i}: real label : {label}, pred. label: {s}, {(s==label)}')"
   ]
  }
 ],
 "metadata": {
  "kernelspec": {
   "display_name": "Python 3",
   "language": "python",
   "name": "python3"
  },
  "language_info": {
   "codemirror_mode": {
    "name": "ipython",
    "version": 3
   },
   "file_extension": ".py",
   "mimetype": "text/x-python",
   "name": "python",
   "nbconvert_exporter": "python",
   "pygments_lexer": "ipython3",
   "version": "3.7.0"
  }
 },
 "nbformat": 4,
 "nbformat_minor": 2
}
