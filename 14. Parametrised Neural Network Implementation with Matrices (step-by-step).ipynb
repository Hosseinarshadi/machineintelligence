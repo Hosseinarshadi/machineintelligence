{
 "cells": [
  {
   "cell_type": "code",
   "execution_count": 1,
   "metadata": {},
   "outputs": [],
   "source": [
    "%config InlineBackend.figure_format = 'retina'\n",
    "import matplotlib.pyplot as plt\n",
    "import numpy as np\n",
    "np.set_printoptions(precision=3)\n",
    "np.set_printoptions(suppress=True)"
   ]
  },
  {
   "cell_type": "markdown",
   "metadata": {},
   "source": [
    "# Neural Network implementation with Matrices #4: Parametrised Algorhytm (step by step)"
   ]
  },
  {
   "cell_type": "markdown",
   "metadata": {},
   "source": [
    "So far, we have been describing the implementation of a neural network with a pre-specified size (the neural network architecture was hard-coded in respect to the number of layers and neurons in each). Here, we will implement an algorithm that can train a neural network of a flexible size in terms of the number of layers and neurons therein."
   ]
  },
  {
   "cell_type": "markdown",
   "metadata": {},
   "source": [
    "In this first example, the data and the labels will remain the same as in the previous examples:"
   ]
  },
  {
   "cell_type": "code",
   "execution_count": 2,
   "metadata": {},
   "outputs": [],
   "source": [
    "data = np.array([[ 1.2, 0.7],\n",
    "                 [-0.3,-0.5],\n",
    "                 [ 3.0, 0.1],\n",
    "                 [-0.1,-1.0],\n",
    "                 [-0.0, 1.1],\n",
    "                 [ 2.1,-1.3],\n",
    "                 [ 3.1,-1.8],\n",
    "                 [ 1.1,-0.1],\n",
    "                 [ 1.5,-2.2],\n",
    "                 [ 4.0,-1.0]])"
   ]
  },
  {
   "cell_type": "code",
   "execution_count": 3,
   "metadata": {},
   "outputs": [],
   "source": [
    "labels = np.array([  1,\n",
    "                    -1,\n",
    "                     1,\n",
    "                    -1,\n",
    "                    -1,\n",
    "                     1,\n",
    "                    -1,\n",
    "                     1,\n",
    "                    -1,\n",
    "                    -1])"
   ]
  },
  {
   "cell_type": "code",
   "execution_count": 4,
   "metadata": {
    "code_folding": [
     0
    ]
   },
   "outputs": [],
   "source": [
    "def plot_data(data, labels):\n",
    "    fig = plt.figure(figsize=(5,5))\n",
    "    ax = fig.add_subplot(111)\n",
    "    ax.scatter(data[:,0], data[:,1], c=labels, s=50,  cmap=plt.cm.bwr,zorder=50)\n",
    "    nudge = 0.08\n",
    "    for i, (X,Y) in enumerate(data):\n",
    "        ax.annotate(f'{i}',(X+nudge,Y+nudge))\n",
    "    ax.set_aspect('equal', 'datalim')\n",
    "    plt.show()"
   ]
  },
  {
   "cell_type": "code",
   "execution_count": 5,
   "metadata": {},
   "outputs": [
    {
     "data": {
      "image/png": "[encoded data removed]",
      "text/plain": [
       "<Figure size 360x360 with 1 Axes>"
      ]
     },
     "metadata": {
      "image/png": {
       "height": 304,
       "width": 316
      },
      "needs_background": "light"
     },
     "output_type": "display_data"
    }
   ],
   "source": [
    "plot_data(data, labels)"
   ]
  },
  {
   "cell_type": "markdown",
   "metadata": {},
   "source": [
    "## Transformation of the data in the matrix format"
   ]
  },
  {
   "cell_type": "markdown",
   "metadata": {},
   "source": [
    "Every layer's activation in a neural network is a matrix whose number of rows equals the number of neurons in the layer. Our data should follow the same conventions, such that each data point's row represent an input neurons. Currently our data set represents data points vectors as row vectors. We need to transform them into column vectors, which is done in the next step:"
   ]
  },
  {
   "cell_type": "code",
   "execution_count": 6,
   "metadata": {
    "scrolled": false
   },
   "outputs": [
    {
     "data": {
      "text/plain": [
       "array([[[ 1.2],\n",
       "        [ 0.7]],\n",
       "\n",
       "       [[-0.3],\n",
       "        [-0.5]],\n",
       "\n",
       "       [[ 3. ],\n",
       "        [ 0.1]],\n",
       "\n",
       "       [[-0.1],\n",
       "        [-1. ]],\n",
       "\n",
       "       [[-0. ],\n",
       "        [ 1.1]],\n",
       "\n",
       "       [[ 2.1],\n",
       "        [-1.3]],\n",
       "\n",
       "       [[ 3.1],\n",
       "        [-1.8]],\n",
       "\n",
       "       [[ 1.1],\n",
       "        [-0.1]],\n",
       "\n",
       "       [[ 1.5],\n",
       "        [-2.2]],\n",
       "\n",
       "       [[ 4. ],\n",
       "        [-1. ]]])"
      ]
     },
     "execution_count": 6,
     "metadata": {},
     "output_type": "execute_result"
    }
   ],
   "source": [
    "data_vectors = np.array([d.reshape(1,2).T for d in data])\n",
    "data_vectors"
   ]
  },
  {
   "cell_type": "markdown",
   "metadata": {},
   "source": [
    "To compute the cost for a single example we need to subtract the values of the labels from the values of the final activations. For that purpose, it is useful that the labels are also represented as column matrices. We can transform the labels into column vectors with the following code:"
   ]
  },
  {
   "cell_type": "code",
   "execution_count": 7,
   "metadata": {},
   "outputs": [
    {
     "data": {
      "text/plain": [
       "array([[[0],\n",
       "        [1]],\n",
       "\n",
       "       [[1],\n",
       "        [0]],\n",
       "\n",
       "       [[0],\n",
       "        [1]],\n",
       "\n",
       "       [[1],\n",
       "        [0]],\n",
       "\n",
       "       [[1],\n",
       "        [0]],\n",
       "\n",
       "       [[0],\n",
       "        [1]],\n",
       "\n",
       "       [[1],\n",
       "        [0]],\n",
       "\n",
       "       [[0],\n",
       "        [1]],\n",
       "\n",
       "       [[1],\n",
       "        [0]],\n",
       "\n",
       "       [[1],\n",
       "        [0]]])"
      ]
     },
     "execution_count": 7,
     "metadata": {},
     "output_type": "execute_result"
    }
   ],
   "source": [
    "labels_vector = np.array([np.array([1,0]).reshape(1,2).T if l==-1 \n",
    "          else np.array([0,1]).reshape(1,2).T if l==1 \n",
    "          else None \n",
    "          for l in labels])\n",
    "labels_vector"
   ]
  },
  {
   "cell_type": "markdown",
   "metadata": {},
   "source": [
    "## Encoding of the neural network's size"
   ]
  },
  {
   "cell_type": "markdown",
   "metadata": {},
   "source": [
    "First we will define the variable sizes and use it to define the size of the neural network. The number of elements in the list defines how many layers there are, and the numbers themselves stand for the number of neurons in the current layer. For example, if our network has 3 layers in total: \n",
    "- 2 neurons in the input layer\n",
    "- 3 neurons in the hidden layer and \n",
    "- 2 outputs in the outer layer\n",
    "\n",
    "we can encode it as `[2,3,2]`."
   ]
  },
  {
   "cell_type": "code",
   "execution_count": 8,
   "metadata": {},
   "outputs": [
    {
     "data": {
      "text/plain": [
       "[2, 3, 2]"
      ]
     },
     "execution_count": 8,
     "metadata": {},
     "output_type": "execute_result"
    }
   ],
   "source": [
    "sizes = [2,3,2]\n",
    "sizes"
   ]
  },
  {
   "cell_type": "markdown",
   "metadata": {},
   "source": [
    "### Initialising the weights and biases"
   ]
  },
  {
   "cell_type": "markdown",
   "metadata": {},
   "source": [
    "#### Biases"
   ]
  },
  {
   "cell_type": "markdown",
   "metadata": {},
   "source": [
    "We know that the input layer of the neural network is not parametrised by weights and biases. Therefore we need to create bias matrices only for the hidden layer(s) and the output layer. We can select them by `sizes[1:]`. "
   ]
  },
  {
   "cell_type": "code",
   "execution_count": 9,
   "metadata": {},
   "outputs": [
    {
     "data": {
      "text/plain": [
       "[3, 2]"
      ]
     },
     "execution_count": 9,
     "metadata": {},
     "output_type": "execute_result"
    }
   ],
   "source": [
    "sizes[1:]"
   ]
  },
  {
   "cell_type": "markdown",
   "metadata": {},
   "source": [
    "A bias matrix has only a single column since each neuron has only one bias (its shape is `y`-rows, `1`-columns). This makes it very easy to create a list of all the biases in the network in one go:"
   ]
  },
  {
   "cell_type": "code",
   "execution_count": 10,
   "metadata": {},
   "outputs": [
    {
     "name": "stdout",
     "output_type": "stream",
     "text": [
      "[[-0.387]\n",
      " [ 0.59 ]\n",
      " [ 0.323]]\n",
      "\n",
      "[[ 1.004]\n",
      " [-0.204]]\n",
      "\n"
     ]
    }
   ],
   "source": [
    "biases = [np.random.randn(y, 1) for y in sizes[1:]]\n",
    "# print\n",
    "for b in biases:\n",
    "    print (f'{b}\\n')"
   ]
  },
  {
   "cell_type": "markdown",
   "metadata": {},
   "source": [
    "#### Weights"
   ]
  },
  {
   "cell_type": "markdown",
   "metadata": {},
   "source": [
    "To compute all the weights at once we need to know in advance the number of rows and columns in every layer. In the last class we learned that the number of rows in a weight matrix corresponds to the number of neurons in that layer. The number of columns correspond to the number of neurons in the previous layer. To obtain the number of rows (neurons) for each layer except the input layer, we can use `sizes[1:]`."
   ]
  },
  {
   "cell_type": "code",
   "execution_count": 11,
   "metadata": {},
   "outputs": [
    {
     "data": {
      "text/plain": [
       "[3, 2]"
      ]
     },
     "execution_count": 11,
     "metadata": {},
     "output_type": "execute_result"
    }
   ],
   "source": [
    "sizes[1:]"
   ]
  },
  {
   "cell_type": "markdown",
   "metadata": {},
   "source": [
    "To obtain the number of rows (neurons) of the previous layers in respect to the last operation, we can use `sizes[:-1]`."
   ]
  },
  {
   "cell_type": "code",
   "execution_count": 12,
   "metadata": {},
   "outputs": [
    {
     "data": {
      "text/plain": [
       "[2, 3]"
      ]
     },
     "execution_count": 12,
     "metadata": {},
     "output_type": "execute_result"
    }
   ],
   "source": [
    "sizes[:-1]"
   ]
  },
  {
   "cell_type": "markdown",
   "metadata": {},
   "source": [
    "To compute the sizes of all the weight matrices we only need to combine these two lists together by using `zip` function:"
   ]
  },
  {
   "cell_type": "code",
   "execution_count": 13,
   "metadata": {},
   "outputs": [
    {
     "name": "stdout",
     "output_type": "stream",
     "text": [
      "layer 2:  3 rows, 2 columns ---> (3, 2)\n",
      "layer 3:  2 rows, 3 columns ---> (2, 3)\n"
     ]
    }
   ],
   "source": [
    "for i, (x, y) in enumerate(zip(sizes[1:], sizes[:-1])):\n",
    "    print (f'layer {i+2}:  {x} rows, {y} columns ---> {x,y}')"
   ]
  },
  {
   "cell_type": "markdown",
   "metadata": {},
   "source": [
    "This allows us to create all the weight matrices at once:"
   ]
  },
  {
   "cell_type": "code",
   "execution_count": 14,
   "metadata": {},
   "outputs": [
    {
     "name": "stdout",
     "output_type": "stream",
     "text": [
      "[[-2.876  0.898]\n",
      " [-1.403 -1.445]\n",
      " [-1.602 -1.016]]\n",
      "\n",
      "[[-0.899  0.392  0.352]\n",
      " [ 0.28  -0.92   0.357]]\n",
      "\n"
     ]
    }
   ],
   "source": [
    "weights = [np.random.randn(x, y) for x, y in zip(sizes[1:], sizes[:-1])]\n",
    "# print\n",
    "for w in weights:\n",
    "    print (f'{w}\\n')"
   ]
  },
  {
   "cell_type": "markdown",
   "metadata": {},
   "source": [
    "### Storing the derivatives"
   ]
  },
  {
   "cell_type": "markdown",
   "metadata": {},
   "source": [
    "Now the two variables `weights` and `biases` store all the weights and biases matrices. It would be very useful to store the partial derivatives of weights and biases in the same form. For that we will create two new variables `d_weights` and `d_biases` that will have the same size as their counterparts."
   ]
  },
  {
   "cell_type": "code",
   "execution_count": 15,
   "metadata": {},
   "outputs": [
    {
     "name": "stdout",
     "output_type": "stream",
     "text": [
      "biases:\n",
      "[[0.]\n",
      " [0.]\n",
      " [0.]]\n",
      "\n",
      "[[0.]\n",
      " [0.]]\n",
      "\n",
      "weights:\n",
      "[[0. 0.]\n",
      " [0. 0.]\n",
      " [0. 0.]]\n",
      "\n",
      "[[0. 0. 0.]\n",
      " [0. 0. 0.]]\n",
      "\n"
     ]
    }
   ],
   "source": [
    "d_biases = [np.zeros(b.shape) for b in biases]\n",
    "# print\n",
    "print (\"biases:\")\n",
    "for b in d_biases:\n",
    "    print (f'{b}\\n')\n",
    "    \n",
    "    \n",
    "d_weights = [np.zeros(w.shape) for w in weights]\n",
    "# print\n",
    "print (\"weights:\")\n",
    "for w in d_weights:\n",
    "    print (f'{w}\\n')"
   ]
  },
  {
   "cell_type": "markdown",
   "metadata": {},
   "source": [
    "## Computation of the forward pass"
   ]
  },
  {
   "cell_type": "markdown",
   "metadata": {},
   "source": [
    "First, let's define a sigmoid function:"
   ]
  },
  {
   "cell_type": "code",
   "execution_count": 16,
   "metadata": {},
   "outputs": [],
   "source": [
    "def sigmoid(z):\n",
    "    return 1.0/(1.0+np.exp(-z))"
   ]
  },
  {
   "cell_type": "markdown",
   "metadata": {},
   "source": [
    "To calculate a forward pass, we will use a single data point, later we will use more points and average their activaitons."
   ]
  },
  {
   "cell_type": "code",
   "execution_count": 17,
   "metadata": {},
   "outputs": [
    {
     "data": {
      "text/plain": [
       "array([[1.2],\n",
       "       [0.7]])"
      ]
     },
     "execution_count": 17,
     "metadata": {},
     "output_type": "execute_result"
    }
   ],
   "source": [
    "data_point = data_vectors[0]\n",
    "data_point"
   ]
  },
  {
   "cell_type": "markdown",
   "metadata": {},
   "source": [
    "We will now compute the whole feed forward pass in one go, storing weighted sums and activations within each layer. As before, the data point will be interpreted as the activation of the first (input) layer that is not parametrised by weights and biases."
   ]
  },
  {
   "cell_type": "code",
   "execution_count": 19,
   "metadata": {},
   "outputs": [],
   "source": [
    "# the neuron activation will change as we progress through layer\n",
    "# but it starts as a data point in our first layer\n",
    "a = data_point # current activation\n",
    "activations = [data_point] # here we store all the activations, layer by layer\n",
    "weighted_sums = [] # here we store all the weighted sums, layer by layer\n",
    "for b, w in zip(biases, weights):\n",
    "    w_sum = np.dot(w, a)+b #current weighted sum\n",
    "    weighted_sums.append(w_sum) \n",
    "    a = sigmoid(w_sum) # current activation is updated and then the loop goes to the next layer\n",
    "    activations.append(a)"
   ]
  },
  {
   "cell_type": "markdown",
   "metadata": {},
   "source": [
    "We can print all the values of the weighted sums:"
   ]
  },
  {
   "cell_type": "code",
   "execution_count": 20,
   "metadata": {},
   "outputs": [
    {
     "name": "stdout",
     "output_type": "stream",
     "text": [
      "[[-3.209]\n",
      " [-2.105]\n",
      " [-2.311]]\n",
      "\n",
      "[[ 1.043]\n",
      " [-0.261]]\n",
      "\n"
     ]
    }
   ],
   "source": [
    "for ws in weighted_sums:\n",
    "    print (f'{ws}\\n')"
   ]
  },
  {
   "cell_type": "markdown",
   "metadata": {},
   "source": [
    "We can also print all the activation values layer by layer. **Note that first activation is the same as our data point.**"
   ]
  },
  {
   "cell_type": "code",
   "execution_count": 21,
   "metadata": {},
   "outputs": [
    {
     "name": "stdout",
     "output_type": "stream",
     "text": [
      "[[1.2]\n",
      " [0.7]]\n",
      "\n",
      "[[0.039]\n",
      " [0.109]\n",
      " [0.09 ]]\n",
      "\n",
      "[[0.739]\n",
      " [0.435]]\n",
      "\n"
     ]
    }
   ],
   "source": [
    "for a in activations:\n",
    "    print (f'{a}\\n')"
   ]
  },
  {
   "cell_type": "markdown",
   "metadata": {},
   "source": [
    "## Computation of the cost"
   ]
  },
  {
   "cell_type": "markdown",
   "metadata": {},
   "source": [
    "Since we are working with the data_point with the index `0`, its corresponding label that we will name `current_label` will also have the same index:"
   ]
  },
  {
   "cell_type": "code",
   "execution_count": 22,
   "metadata": {},
   "outputs": [
    {
     "data": {
      "text/plain": [
       "array([[0],\n",
       "       [1]])"
      ]
     },
     "execution_count": 22,
     "metadata": {},
     "output_type": "execute_result"
    }
   ],
   "source": [
    "current_label = labels_vector[0]\n",
    "current_label"
   ]
  },
  {
   "cell_type": "markdown",
   "metadata": {},
   "source": [
    "Here we compute the cost/loss for the current data point:"
   ]
  },
  {
   "cell_type": "code",
   "execution_count": 23,
   "metadata": {},
   "outputs": [
    {
     "name": "stdout",
     "output_type": "stream",
     "text": [
      "The cost is: 0.28221910236602477\n"
     ]
    }
   ],
   "source": [
    "cost = sum((data_point - activations[-1])**2)[0]\n",
    "print (f\"The cost is: {cost}\")"
   ]
  },
  {
   "cell_type": "markdown",
   "metadata": {},
   "source": [
    "## Computation of the backward pass"
   ]
  },
  {
   "cell_type": "markdown",
   "metadata": {},
   "source": [
    "The general strategy is that in the first step we compute the partial derivatives in respect to the weights and biases in the output layer, an in the second step all the rest of them."
   ]
  },
  {
   "cell_type": "markdown",
   "metadata": {},
   "source": [
    "#### Derivatives of weights and biases in the output layer"
   ]
  },
  {
   "cell_type": "markdown",
   "metadata": {},
   "source": [
    "Here we compute the partial derivative of the total cost in respect to the weighted sums of the output layer:"
   ]
  },
  {
   "cell_type": "code",
   "execution_count": 24,
   "metadata": {},
   "outputs": [
    {
     "data": {
      "text/plain": [
       "array([[ 0.142],\n",
       "       [-0.139]])"
      ]
     },
     "execution_count": 24,
     "metadata": {},
     "output_type": "execute_result"
    }
   ],
   "source": [
    "# derivative of the total cost in respect to the output activations \n",
    "# * \n",
    "# derivative of the output activations in respect to the weighted sums\n",
    "d_w_sum = (activations[-1]-current_label) * (activations[-1] * (1-activations[-1])) \n",
    "d_w_sum"
   ]
  },
  {
   "cell_type": "markdown",
   "metadata": {},
   "source": [
    "Once we know the derivative of the total cost in respect to the weighted sums, it is easy to compute the derivatives of the weights and the biases of the output layer. The derivative of the biases will be the same as the derivatives for the weighted sums, and for the weights, we need to multiply the derivatives of the weighted sums with the transposed activation matrix from the level before the last (output)."
   ]
  },
  {
   "cell_type": "code",
   "execution_count": 26,
   "metadata": {},
   "outputs": [],
   "source": [
    "d_biases[-1] = d_w_sum\n",
    "d_weights[-1] = np.dot(d_w_sum, activations[-2].transpose())"
   ]
  },
  {
   "cell_type": "markdown",
   "metadata": {},
   "source": [
    "If we preview the weights and biases matrices, we will see that only the last matrices are filled in, while the rest is still equal to zero."
   ]
  },
  {
   "cell_type": "code",
   "execution_count": 27,
   "metadata": {
    "scrolled": true
   },
   "outputs": [
    {
     "name": "stdout",
     "output_type": "stream",
     "text": [
      "[[0. 0.]\n",
      " [0. 0.]\n",
      " [0. 0.]]\n",
      "\n",
      "[[ 0.006  0.015  0.013]\n",
      " [-0.005 -0.015 -0.013]]\n",
      "\n"
     ]
    }
   ],
   "source": [
    "for d in d_weights:\n",
    "    print (f'{d}\\n')"
   ]
  },
  {
   "cell_type": "code",
   "execution_count": 28,
   "metadata": {},
   "outputs": [
    {
     "name": "stdout",
     "output_type": "stream",
     "text": [
      "[[0.]\n",
      " [0.]\n",
      " [0.]]\n",
      "\n",
      "[[ 0.142]\n",
      " [-0.139]]\n",
      "\n"
     ]
    }
   ],
   "source": [
    "for b in d_biases:\n",
    "    print (f'{b}\\n')"
   ]
  },
  {
   "cell_type": "markdown",
   "metadata": {},
   "source": [
    "#### Derivatives of weights and biases in the hidden layers"
   ]
  },
  {
   "cell_type": "markdown",
   "metadata": {},
   "source": [
    "Now we ought to compute the partial derivatives in respect to the weights and biases of all the layers expect the output layer in one single step. For that, we first determine the number of layers of the neural network:"
   ]
  },
  {
   "cell_type": "code",
   "execution_count": 29,
   "metadata": {},
   "outputs": [
    {
     "name": "stdout",
     "output_type": "stream",
     "text": [
      "The number of layers is: 3\n"
     ]
    }
   ],
   "source": [
    "num_layers = len(sizes)\n",
    "print (f\"The number of layers is: {num_layers}\")"
   ]
  },
  {
   "cell_type": "markdown",
   "metadata": {},
   "source": [
    "Then we iterate through the layers backwards by using the negative value of the iterator `[-i]` starting with the second from the back and ending to the second one from the start."
   ]
  },
  {
   "cell_type": "code",
   "execution_count": 30,
   "metadata": {},
   "outputs": [],
   "source": [
    "for i in range(2, num_layers):\n",
    "    act = activations[-i]\n",
    "    d_w_sum = np.dot(weights[-i+1].T, d_w_sum) * (act * (1 - act))\n",
    "    d_biases[-i] = d_w_sum\n",
    "    d_weights[-i] = np.dot(d_w_sum, activations[-i-1].T)"
   ]
  },
  {
   "cell_type": "markdown",
   "metadata": {},
   "source": [
    "If we now print the weigths and biases matrices, we will see that all the values are filled in:"
   ]
  },
  {
   "cell_type": "code",
   "execution_count": 31,
   "metadata": {
    "scrolled": true
   },
   "outputs": [
    {
     "name": "stdout",
     "output_type": "stream",
     "text": [
      "[[-0.007 -0.004]\n",
      " [ 0.021  0.012]\n",
      " [ 0.     0.   ]]\n",
      "\n",
      "[[ 0.006  0.015  0.013]\n",
      " [-0.005 -0.015 -0.013]]\n",
      "\n"
     ]
    }
   ],
   "source": [
    "for d in d_weights:\n",
    "    print (f'{d}\\n')"
   ]
  },
  {
   "cell_type": "code",
   "execution_count": 32,
   "metadata": {},
   "outputs": [
    {
     "name": "stdout",
     "output_type": "stream",
     "text": [
      "[[-0.006]\n",
      " [ 0.018]\n",
      " [ 0.   ]]\n",
      "\n",
      "[[ 0.142]\n",
      " [-0.139]]\n",
      "\n"
     ]
    }
   ],
   "source": [
    "for b in d_biases:\n",
    "    print (f'{b}\\n')"
   ]
  },
  {
   "cell_type": "markdown",
   "metadata": {},
   "source": [
    "## Updating the weights and biases"
   ]
  },
  {
   "cell_type": "markdown",
   "metadata": {},
   "source": [
    "To update the weights and biases with we need to subtract the newly computed derivatives from the original values in order to minimise our cost function. In order to minimise the function slowly, we will multiply the values of partial derivatives with a small number, defined with the variable `step_size`."
   ]
  },
  {
   "cell_type": "code",
   "execution_count": 33,
   "metadata": {},
   "outputs": [],
   "source": [
    "step_size = 0.1"
   ]
  },
  {
   "cell_type": "code",
   "execution_count": 34,
   "metadata": {},
   "outputs": [],
   "source": [
    "weights = [w - (step_size * dw) \n",
    "           for w, dw in zip(weights, d_weights)]\n",
    "\n",
    "biases =  [b - (step_size * db)\n",
    "          for b, db in zip(biases, d_biases)]"
   ]
  },
  {
   "cell_type": "markdown",
   "metadata": {},
   "source": [
    "Now we can print the updated values of the weights and biases:"
   ]
  },
  {
   "cell_type": "code",
   "execution_count": 35,
   "metadata": {},
   "outputs": [
    {
     "name": "stdout",
     "output_type": "stream",
     "text": [
      "[[-0.007 -0.004]\n",
      " [ 0.021  0.012]\n",
      " [ 0.     0.   ]]\n",
      "\n",
      "[[ 0.006  0.015  0.013]\n",
      " [-0.005 -0.015 -0.013]]\n",
      "\n"
     ]
    }
   ],
   "source": [
    "for d in d_weights:\n",
    "    print (f'{d}\\n')"
   ]
  },
  {
   "cell_type": "code",
   "execution_count": 36,
   "metadata": {},
   "outputs": [
    {
     "name": "stdout",
     "output_type": "stream",
     "text": [
      "[[-0.006]\n",
      " [ 0.018]\n",
      " [ 0.   ]]\n",
      "\n",
      "[[ 0.142]\n",
      " [-0.139]]\n",
      "\n"
     ]
    }
   ],
   "source": [
    "for b in d_biases:\n",
    "    print (f'{b}\\n')"
   ]
  }
 ],
 "metadata": {
  "kernelspec": {
   "display_name": "Python 3",
   "language": "python",
   "name": "python3"
  },
  "language_info": {
   "codemirror_mode": {
    "name": "ipython",
    "version": 3
   },
   "file_extension": ".py",
   "mimetype": "text/x-python",
   "name": "python",
   "nbconvert_exporter": "python",
   "pygments_lexer": "ipython3",
   "version": "3.7.0"
  }
 },
 "nbformat": 4,
 "nbformat_minor": 2
}
