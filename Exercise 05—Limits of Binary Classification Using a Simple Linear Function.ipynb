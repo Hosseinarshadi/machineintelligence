{
 "cells": [
  {
   "cell_type": "code",
   "execution_count": null,
   "metadata": {},
   "outputs": [],
   "source": [
    "%config InlineBackend.figure_format = 'retina'\n",
    "import matplotlib.pyplot as plt\n",
    "import numpy as np\n",
    "np.set_printoptions(precision=3)\n",
    "np.set_printoptions(suppress=True)"
   ]
  },
  {
   "cell_type": "markdown",
   "metadata": {},
   "source": [
    "### Simple linear classification algorithm"
   ]
  },
  {
   "cell_type": "markdown",
   "metadata": {},
   "source": [
    "| vector [x,y] \t| label \t|\n",
    "|--------------\t|-------\t|\n",
    "| [ 0.0, 0.7]  \t| +1    \t|\n",
    "| [-0.3, -0.5] \t| -1    \t|\n",
    "| [3.0, 0.1]   \t| +1    \t|\n",
    "| [-0.1, -1.0] \t| -1    \t|\n",
    "| [-1.0, 1.1]  \t| -1    \t|\n",
    "| [2.1, -3.0]  \t| +1    \t|"
   ]
  },
  {
   "cell_type": "markdown",
   "metadata": {},
   "source": [
    "We can represent the data as a 2-dimensional numpy array"
   ]
  },
  {
   "cell_type": "code",
   "execution_count": null,
   "metadata": {},
   "outputs": [],
   "source": [
    "data = np.array([[ 0.0, 0.7],\n",
    "                 [-0.3,-0.5],\n",
    "                 [ 3.0, 0.1],\n",
    "                 [-0.1,-1.0],\n",
    "                 [-1.0, 1.1],\n",
    "                 [ 2.1,-3.0]])"
   ]
  },
  {
   "cell_type": "markdown",
   "metadata": {},
   "source": [
    "We can represent the labels as a simple numpy array of numbers"
   ]
  },
  {
   "cell_type": "code",
   "execution_count": null,
   "metadata": {},
   "outputs": [],
   "source": [
    "labels = np.array([ 1,\n",
    "                   -1,\n",
    "                    1,\n",
    "                   -1,\n",
    "                   -1,\n",
    "                   +1])"
   ]
  },
  {
   "cell_type": "markdown",
   "metadata": {},
   "source": [
    "We can plot the data using the following function:"
   ]
  },
  {
   "cell_type": "code",
   "execution_count": null,
   "metadata": {
    "code_folding": [
     0
    ]
   },
   "outputs": [],
   "source": [
    "def plot_data(data, labels):\n",
    "    fig = plt.figure(figsize=(5,5))\n",
    "    ax = fig.add_subplot(111)\n",
    "    ax.scatter(data[:,0], data[:,1], c=labels, s=50,  cmap=plt.cm.bwr,zorder=50)\n",
    "    nudge = 0.08\n",
    "    for i in range(data.shape[0]):\n",
    "        d = data[i]\n",
    "        ax.annotate(f'{i}',(d[0]+nudge,d[1]+nudge))\n",
    "    ax.set_aspect('equal', 'datalim')\n",
    "    plt.show()"
   ]
  },
  {
   "cell_type": "code",
   "execution_count": null,
   "metadata": {
    "scrolled": true
   },
   "outputs": [],
   "source": [
    "plot_data(data,labels)"
   ]
  },
  {
   "cell_type": "markdown",
   "metadata": {},
   "source": [
    "This is a function to evaluate the accuracy of the training"
   ]
  },
  {
   "cell_type": "code",
   "execution_count": null,
   "metadata": {
    "code_folding": [
     0,
     15,
     22
    ]
   },
   "outputs": [],
   "source": [
    "def eval_accuracy(data,labels, A,B,C):\n",
    "    num_correct = 0;\n",
    "    data_len = data.shape[0]\n",
    "    \n",
    "    for i in range(data_len):\n",
    "        X,Y = data[i]\n",
    "        current_label = labels[i]  \n",
    "        output = A*X + B*Y + C\n",
    "        predicted_label = 1 if output >= 1 else -1 if output <= -1 else 0\n",
    "        if (predicted_label == current_label):\n",
    "            num_correct += 1\n",
    "    return np.round(num_correct / data_len,3)\n",
    "\n",
    "def create_meshgrid(data):\n",
    "    h = 0.02\n",
    "    x_min, x_max = data[:, 0].min() - 1, data[:, 0].max() + 1\n",
    "    y_min, y_max = data[:, 1].min() - 1, data[:, 1].max() + 1\n",
    "    xx, yy = np.meshgrid(np.arange(x_min, x_max, h), np.arange(y_min, y_max, h))\n",
    "    return (xx,yy,np.ones(xx.shape))\n",
    "\n",
    "def plot_learning_simple(grid,data,labels,A,B,C,iteration, accuracy):\n",
    "    xx,yy,Z = grid\n",
    "    \n",
    "    for i in range(xx.shape[0]): # row\n",
    "        for j in range(yy.shape[1]): #column\n",
    "            X, Y = xx[i][j],yy[i][j]\n",
    "            output = A*X + B*Y + C\n",
    "            predicted_label = 1 if output >= 1 else -1 if output <= -1 else 0\n",
    "            #predicted_label = 1 if output > 0 else -1\n",
    "            Z[i][j] = predicted_label\n",
    "\n",
    "    fig = plt.figure(figsize=(5,5))\n",
    "    ax = fig.add_subplot(111)\n",
    "    plt.title(f'accuracy at the iteration {iteration}: {accuracy}')\n",
    "    ax.contourf(xx, yy, Z, cmap=plt.cm.binary, alpha=0.1, zorder=15)\n",
    "    ax.scatter(data[:, 0], data[:, 1], c=labels, s=50,  cmap=plt.cm.bwr,zorder=50)\n",
    "    ax.set_aspect('equal')\n",
    "    nudge = 0.08\n",
    "    for i in range(data.shape[0]):\n",
    "        d = data[i]\n",
    "        ax.annotate(f'{i}',(d[0]+nudge,d[1]+nudge))\n",
    "    plt.xlim(xx.min(), xx.max())\n",
    "    plt.ylim(yy.min(), yy.max())\n",
    "    plt.show()"
   ]
  },
  {
   "cell_type": "markdown",
   "metadata": {},
   "source": [
    "Here is the main algorithm."
   ]
  },
  {
   "cell_type": "code",
   "execution_count": null,
   "metadata": {},
   "outputs": [],
   "source": [
    "def train_neural_network(data, labels, step_size, no_loops, iter_info):\n",
    "    #A, B, and C are parameters of the function F. Here, they are set to 1, -2, -1\n",
    "    A, B, C = 1, -2, -1\n",
    "    # this function is used for plotting, it can be ignored\n",
    "    grid = create_meshgrid(data)\n",
    "    \n",
    "    # the main training loop\n",
    "    for i in range(no_loops):\n",
    "        # we randomly select the data point, and store its info into: x,y,label\n",
    "        index = np.random.randint(data.shape[0])\n",
    "        X,Y = data[index]\n",
    "        label = labels[index]\n",
    "        # we calculate the output of the function\n",
    "        output = A*X + B*Y + C\n",
    "        # We need to define how to affect parameters.\n",
    "        # If the label is 1 but the output is smaller than 1, we want to push the score up.\n",
    "        # If the label is -1 but the output is larger than -1, we want to push the score down.\n",
    "        sign = 0.0\n",
    "        if (label == 1 and output < 1):\n",
    "            sign = 1.0\n",
    "        if (label == -1 and output > -1):\n",
    "            sign = -1.0\n",
    "        # partial derivative of dF/dA is X, dF/dB is Y, and of dF/dC is 1. \n",
    "        dA, dB, dC = X, Y, 1\n",
    "        # here we update the parameter values using partial derivatives\n",
    "        A = A + dA * sign * step_size\n",
    "        B = B + dB * sign * step_size\n",
    "        C = C + dC * sign * step_size;\n",
    "        \n",
    "        # after a number of iterations, show training accuracy and plot it\n",
    "        if (i%iter_info==0):\n",
    "            accuracy = eval_accuracy(data, labels, A,B,C)\n",
    "            plot_learning_simple(grid,data,labels,A,B,C,i,accuracy)\n",
    "    # the algorithm returns the learned parameters A, B, and C\n",
    "    return (A,B,C)"
   ]
  },
  {
   "cell_type": "code",
   "execution_count": null,
   "metadata": {
    "scrolled": false
   },
   "outputs": [],
   "source": [
    "train_1 = train_neural_network(data, labels, 0.01, 2501, 500)"
   ]
  },
  {
   "cell_type": "markdown",
   "metadata": {},
   "source": [
    "We can inspect the result by comparing the real label of a data point and the predicted label:"
   ]
  },
  {
   "cell_type": "code",
   "execution_count": null,
   "metadata": {
    "code_folding": [
     0
    ]
   },
   "outputs": [],
   "source": [
    "def show_prediction(train, data, labels):\n",
    "    A, B, C = train\n",
    "    for i in range(data.shape[0]):\n",
    "        X,Y = data[i]\n",
    "        label = labels[i]\n",
    "        output = A*X + B*Y + C\n",
    "        predicted_label = 1 if output >= 1 else -1 if output <= -1 else 0\n",
    "        print (f'data point {i}: real label : {label}, pred. label: {predicted_label}, {(label==predicted_label)}')"
   ]
  },
  {
   "cell_type": "code",
   "execution_count": null,
   "metadata": {},
   "outputs": [],
   "source": [
    "show_prediction(train_1,data,labels)"
   ]
  },
  {
   "cell_type": "markdown",
   "metadata": {},
   "source": [
    "---"
   ]
  },
  {
   "cell_type": "markdown",
   "metadata": {},
   "source": [
    "#### Let's try with a different data set"
   ]
  },
  {
   "cell_type": "code",
   "execution_count": null,
   "metadata": {},
   "outputs": [],
   "source": [
    "data2 = np.array([[ 1.2, 0.7],\n",
    "                 [-0.3,-0.5],\n",
    "                 [ 3.0, 0.1],\n",
    "                 [-0.1,-1.0],\n",
    "                 [-0.0, 1.1],\n",
    "                 [ 2.1,-1.3],\n",
    "                 [ 3.1,-1.8],\n",
    "                 [ 1.1,-0.1],\n",
    "                 [ 1.5,-2.2],\n",
    "                 [ 4.0,-1.0]])"
   ]
  },
  {
   "cell_type": "code",
   "execution_count": null,
   "metadata": {},
   "outputs": [],
   "source": [
    "labels2 = np.array([ 1,\n",
    "                    -1,\n",
    "                     1,\n",
    "                    -1,\n",
    "                    -1,\n",
    "                     1,\n",
    "                    -1,\n",
    "                     1,\n",
    "                    -1,\n",
    "                    -1])"
   ]
  },
  {
   "cell_type": "code",
   "execution_count": null,
   "metadata": {},
   "outputs": [],
   "source": [
    "plot_data(data2,labels2)"
   ]
  },
  {
   "cell_type": "code",
   "execution_count": null,
   "metadata": {
    "scrolled": false
   },
   "outputs": [],
   "source": [
    "train_2 = train_neural_network(data2, labels2, 0.01, 2501, 500)"
   ]
  },
  {
   "cell_type": "code",
   "execution_count": null,
   "metadata": {},
   "outputs": [],
   "source": [
    "show_prediction(train_1,data2,labels2)"
   ]
  }
 ],
 "metadata": {
  "kernelspec": {
   "display_name": "Python 3",
   "language": "python",
   "name": "python3"
  },
  "language_info": {
   "codemirror_mode": {
    "name": "ipython",
    "version": 3
   },
   "file_extension": ".py",
   "mimetype": "text/x-python",
   "name": "python",
   "nbconvert_exporter": "python",
   "pygments_lexer": "ipython3",
   "version": "3.7.0"
  }
 },
 "nbformat": 4,
 "nbformat_minor": 2
}
