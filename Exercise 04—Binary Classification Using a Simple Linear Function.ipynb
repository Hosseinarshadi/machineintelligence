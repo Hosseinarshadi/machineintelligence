{
 "cells": [
  {
   "cell_type": "code",
   "execution_count": null,
   "metadata": {},
   "outputs": [],
   "source": [
    "%config InlineBackend.figure_format = 'retina'\n",
    "import matplotlib.pyplot as plt\n",
    "import numpy as np\n",
    "np.set_printoptions(precision=3)\n",
    "np.set_printoptions(suppress=True)"
   ]
  },
  {
   "cell_type": "markdown",
   "metadata": {},
   "source": [
    "# Machine Learning Excercise 1"
   ]
  },
  {
   "cell_type": "markdown",
   "metadata": {},
   "source": [
    "## Binary Classification"
   ]
  },
  {
   "cell_type": "markdown",
   "metadata": {},
   "source": [
    "We have a data set below, containing 6 data points, each containing a 2-dimensional vector associated with a label. For example, a vector `[1.2, 0.7]` is associated with the label `+1`."
   ]
  },
  {
   "cell_type": "markdown",
   "metadata": {},
   "source": [
    "| vector [x,y] \t| label \t|\n",
    "|--------------\t|-------\t|\n",
    "| [ 1.2, 0.7]  \t| +1    \t|\n",
    "| [-0.3, -0.5] \t| -1    \t|\n",
    "| [3.0, 0.1]   \t| +1    \t|\n",
    "| [-0.1, -1.0] \t| -1    \t|\n",
    "| [-1.0, 1.1]  \t| -1    \t|\n",
    "| [2.1, -3.0]  \t| +1    \t|"
   ]
  },
  {
   "cell_type": "markdown",
   "metadata": {},
   "source": [
    "To get a better understanding of the data, we can plot these two-dimensional vectors on a cartesian plane:"
   ]
  },
  {
   "cell_type": "markdown",
   "metadata": {},
   "source": [
    "<img src=\"img/neural_networks_33.png\" alt=\"drawing\" width=\"500\"/>"
   ]
  },
  {
   "cell_type": "markdown",
   "metadata": {},
   "source": [
    "Here, the location on the point in the plane is given by the pair of coordinates, and its colour is defined by the label. Red points have the label `+1`, and the blue points have the label `-1`.  When we give the computer a pair of (x,y) coordinates, we want the computer to tell us should whether the point should be marked `-1`—red or `+1`—blue, according to what it knows from the data.  What does learning means in this case? The computer needs to define the boundary between these two given classes."
   ]
  },
  {
   "cell_type": "markdown",
   "metadata": {},
   "source": [
    "### Classification by using a simple linear function "
   ]
  },
  {
   "cell_type": "markdown",
   "metadata": {},
   "source": [
    "First we will use a simple linear function to implement binary classification:"
   ]
  },
  {
   "cell_type": "markdown",
   "metadata": {},
   "source": [
    "\\begin{align}\n",
    "F = f(\\mathbf{X},\\mathbf{Y})=A\\mathbf{X}+B\\mathbf{Y}+C\n",
    "\\end{align}"
   ]
  },
  {
   "cell_type": "markdown",
   "metadata": {},
   "source": [
    "Here, $\\mathbf{X}$ and $\\mathbf{Y}$ are the input vectors, and $A$, $B$ and $C$ are the parameters that we are trying to learn. This can be represented schematically:"
   ]
  },
  {
   "cell_type": "markdown",
   "metadata": {},
   "source": [
    "<img src=\"img/neural_networks_16.png\" alt=\"drawing\" width=\"400\"/>"
   ]
  },
  {
   "cell_type": "markdown",
   "metadata": {},
   "source": [
    "So, if our data point is $(\\mathbf{X},\\mathbf{Y})=$ `[1.2,0.7]`, and if the chosen parameters are $A=$ `1`, $B=$ `-2`, $C=$ `-3`, initialise the variables:"
   ]
  },
  {
   "cell_type": "code",
   "execution_count": null,
   "metadata": {},
   "outputs": [],
   "source": []
  },
  {
   "cell_type": "code",
   "execution_count": null,
   "metadata": {},
   "outputs": [],
   "source": []
  },
  {
   "cell_type": "markdown",
   "metadata": {},
   "source": [
    "For the corresponding data point label, initialise the variable `label`:"
   ]
  },
  {
   "cell_type": "code",
   "execution_count": null,
   "metadata": {},
   "outputs": [],
   "source": []
  },
  {
   "cell_type": "markdown",
   "metadata": {},
   "source": [
    "Compute the output of the function $F = f(\\mathbf{X},\\mathbf{Y})$ and assign it to the variable `output`:"
   ]
  },
  {
   "cell_type": "code",
   "execution_count": null,
   "metadata": {},
   "outputs": [],
   "source": []
  },
  {
   "cell_type": "markdown",
   "metadata": {},
   "source": [
    "<img src=\"img/neural_networks_17.png\" alt=\"drawing\" width=\"400\"/>"
   ]
  },
  {
   "cell_type": "markdown",
   "metadata": {},
   "source": [
    "The prediction has to do with how do we interpret the output $F$ of the function $f(\\mathbf{X},\\mathbf{Y})$.<br>\n",
    "\n",
    "__We can define that in our algorithm, the parameters $A$, $B$, and $C$ must be tuned such that the function $f$ outputs a number greater than 0 when it encounters a data point associated with the label `+1`. In the same way, the function should output a number less (or equal to) than 0 when it encounters a data point associated with the label `-1`.__\n"
   ]
  },
  {
   "cell_type": "markdown",
   "metadata": {},
   "source": [
    "| Neuron Output \t| Label | Action         |\n",
    "|--------------\t|---------- | ------         |\n",
    "| Output > 1  \t| +1    \t| do nothing     |\n",
    "| Output > 1 \t| -1    \t| minimise output|\n",
    "| Output $\\leq$ -1   \t| +1    \t| maximise output|\n",
    "| Output $\\leq$ -1 \t| -1    \t| do nothing     |"
   ]
  },
  {
   "cell_type": "markdown",
   "metadata": {},
   "source": [
    "Decide whether we should minimise or maximise the output of the function $F = f(\\mathbf{X},\\mathbf{Y})$ for the current data point?"
   ]
  },
  {
   "cell_type": "code",
   "execution_count": null,
   "metadata": {},
   "outputs": [],
   "source": []
  },
  {
   "cell_type": "markdown",
   "metadata": {},
   "source": [
    "Create a python function `decide(output, label)`, that prints whether we should minimise or maximise our function $F = f(\\mathbf{X},\\mathbf{Y})$:"
   ]
  },
  {
   "cell_type": "code",
   "execution_count": null,
   "metadata": {},
   "outputs": [],
   "source": []
  },
  {
   "cell_type": "markdown",
   "metadata": {},
   "source": [
    "Test the function `decide` for the current output and label, and try some other values:"
   ]
  },
  {
   "cell_type": "code",
   "execution_count": null,
   "metadata": {},
   "outputs": [],
   "source": []
  },
  {
   "cell_type": "markdown",
   "metadata": {},
   "source": [
    "If the formulas for maximising and minimising functions are respectively:\n",
    "$$x_{new} = x_{old} + \\frac{dy}{dx}x_{old} \\cdot c$$\n",
    "and\n",
    "$$x_{new} = x_{old} - \\frac{dy}{dx}x_{old} \\cdot c$$"
   ]
  },
  {
   "cell_type": "markdown",
   "metadata": {},
   "source": [
    "How can we use a number-holding variable, for example `sign` to modify this function so that it can maximise and minimise according to its value:"
   ]
  },
  {
   "cell_type": "code",
   "execution_count": null,
   "metadata": {},
   "outputs": [],
   "source": []
  },
  {
   "cell_type": "markdown",
   "metadata": {},
   "source": [
    "Initialise the variable `sign` to zero, and write code that will set its value to `-1` or `1` according to the current values of the variables `output` and `label`"
   ]
  },
  {
   "cell_type": "code",
   "execution_count": null,
   "metadata": {},
   "outputs": [],
   "source": []
  },
  {
   "cell_type": "markdown",
   "metadata": {},
   "source": [
    "What is the value of `sign` for the output of our current data points and their label?"
   ]
  },
  {
   "cell_type": "code",
   "execution_count": null,
   "metadata": {},
   "outputs": [],
   "source": []
  },
  {
   "cell_type": "markdown",
   "metadata": {},
   "source": [
    "### Computing the gradient"
   ]
  },
  {
   "cell_type": "markdown",
   "metadata": {},
   "source": [
    "<img src=\"img/neural_networks_16.png\" alt=\"drawing\" width=\"400\"/>"
   ]
  },
  {
   "cell_type": "markdown",
   "metadata": {},
   "source": [
    "We have computed the partial derivatives in terms of parameters $A$, $B$, and $C$:"
   ]
  },
  {
   "cell_type": "markdown",
   "metadata": {},
   "source": [
    "\\begin{align*}\n",
    "\\frac{\\partial F}{\\partial A} &=\\frac{\\partial F}{\\partial G}*\\frac{\\partial G}{\\partial A}; &\\frac{\\partial F}{\\partial B} &=\\frac{\\partial F}{\\partial G}*\\frac{\\partial G}{\\partial B}; &\\frac{\\partial F}{\\partial C} ;& \\\\\\\\\n",
    "\\frac{\\partial F}{\\partial A} &=1*X &\\frac{\\partial F}{\\partial B} &=1*Y &\\frac{\\partial F}{\\partial C} &=1 \\\\\\\\\n",
    "\\frac{\\partial F}{\\partial A} &=X &\\frac{\\partial F}{\\partial B} &=Y &\\frac{\\partial F}{\\partial C} &=1\n",
    "\\end{align*}"
   ]
  },
  {
   "cell_type": "markdown",
   "metadata": {},
   "source": [
    "Initialise the partial derivatives using the variables `dA`, `dB` and `dC`, and print their values:"
   ]
  },
  {
   "cell_type": "code",
   "execution_count": null,
   "metadata": {},
   "outputs": [],
   "source": []
  },
  {
   "cell_type": "markdown",
   "metadata": {},
   "source": [
    "Introduce the variable `step_size` to hold a very small number and minimise/maximise the value of `dA`, `dB` and `dC`:"
   ]
  },
  {
   "cell_type": "code",
   "execution_count": null,
   "metadata": {},
   "outputs": [],
   "source": []
  },
  {
   "cell_type": "markdown",
   "metadata": {},
   "source": [
    "Evaluate the  function $f(\\mathbf{X},\\mathbf{Y})$, with the updated parameters $A$, $B$, and $C$:"
   ]
  },
  {
   "cell_type": "code",
   "execution_count": null,
   "metadata": {},
   "outputs": [],
   "source": []
  },
  {
   "cell_type": "markdown",
   "metadata": {},
   "source": [
    "This result should be better then the original result `-3.2` !"
   ]
  },
  {
   "cell_type": "markdown",
   "metadata": {},
   "source": [
    "***"
   ]
  },
  {
   "cell_type": "markdown",
   "metadata": {},
   "source": [
    "#### Exercise 1:\n",
    "Write a simple algorithm for binary classification by using the previously written code:"
   ]
  },
  {
   "cell_type": "code",
   "execution_count": null,
   "metadata": {},
   "outputs": [],
   "source": []
  },
  {
   "cell_type": "markdown",
   "metadata": {},
   "source": [
    "***"
   ]
  },
  {
   "cell_type": "markdown",
   "metadata": {},
   "source": [
    "### Simple linear classification algorithm"
   ]
  },
  {
   "cell_type": "markdown",
   "metadata": {},
   "source": [
    "Here, the previous steps are put together in an working algorithm. "
   ]
  },
  {
   "cell_type": "markdown",
   "metadata": {},
   "source": [
    "| vector [x,y] \t| label \t|\n",
    "|--------------\t|-------\t|\n",
    "| [ 0.0, 0.7]  \t| +1    \t|\n",
    "| [-0.3, -0.5] \t| -1    \t|\n",
    "| [3.0, 0.1]   \t| +1    \t|\n",
    "| [-0.1, -1.0] \t| -1    \t|\n",
    "| [-1.0, 1.1]  \t| -1    \t|\n",
    "| [2.1, -3.0]  \t| +1    \t|"
   ]
  },
  {
   "cell_type": "markdown",
   "metadata": {},
   "source": [
    "We can represent the data as a 2-dimensional numpy array"
   ]
  },
  {
   "cell_type": "code",
   "execution_count": null,
   "metadata": {},
   "outputs": [],
   "source": [
    "data = np.array([[ 0.0, 0.7],\n",
    "                 [-0.3,-0.5],\n",
    "                 [ 3.0, 0.1],\n",
    "                 [-0.1,-1.0],\n",
    "                 [-1.0, 1.1],\n",
    "                 [ 2.1,-3.0]])"
   ]
  },
  {
   "cell_type": "markdown",
   "metadata": {},
   "source": [
    "We can represent the labels as a simple numpy array of numbers"
   ]
  },
  {
   "cell_type": "code",
   "execution_count": null,
   "metadata": {},
   "outputs": [],
   "source": [
    "labels = np.array([ 1,\n",
    "                   -1,\n",
    "                    1,\n",
    "                   -1,\n",
    "                   -1,\n",
    "                   +1])"
   ]
  },
  {
   "cell_type": "markdown",
   "metadata": {},
   "source": [
    "We can plot the data using the following function:"
   ]
  },
  {
   "cell_type": "code",
   "execution_count": null,
   "metadata": {
    "code_folding": [
     0
    ]
   },
   "outputs": [],
   "source": [
    "def plot_data(data, labels):\n",
    "    fig = plt.figure(figsize=(5,5))\n",
    "    ax = fig.add_subplot(111)\n",
    "    ax.scatter(data[:,0], data[:,1], c=labels, s=50,  cmap=plt.cm.bwr,zorder=50)\n",
    "    nudge = 0.08\n",
    "    for i in range(data.shape[0]):\n",
    "        d = data[i]\n",
    "        ax.annotate(f'{i}',(d[0]+nudge,d[1]+nudge))\n",
    "    ax.set_aspect('equal', 'datalim')\n",
    "    plt.show()"
   ]
  },
  {
   "cell_type": "code",
   "execution_count": null,
   "metadata": {
    "scrolled": true
   },
   "outputs": [],
   "source": [
    "plot_data(data,labels)"
   ]
  },
  {
   "cell_type": "markdown",
   "metadata": {},
   "source": [
    "This is a function to evaluate the accuracy of the training"
   ]
  },
  {
   "cell_type": "code",
   "execution_count": null,
   "metadata": {
    "code_folding": [
     0,
     15,
     22
    ]
   },
   "outputs": [],
   "source": [
    "def eval_accuracy(X,Y,A,B,C):\n",
    "    num_correct = 0;\n",
    "    data_len = data.shape[0]\n",
    "    \n",
    "    for i in range(data_len):\n",
    "        X,Y = data[i]\n",
    "        true_label = labels[i]\n",
    "        \n",
    "        output = A*X + B*Y + C\n",
    "        predicted_label = 1 if output > 0 else -1\n",
    "        \n",
    "        if (predicted_label == true_label):\n",
    "            num_correct += 1\n",
    "    return num_correct / data_len\n",
    "\n",
    "def create_meshgrid(data):\n",
    "    h = 0.02\n",
    "    x_min, x_max = data[:, 0].min() - 1, data[:, 0].max() + 1\n",
    "    y_min, y_max = data[:, 1].min() - 1, data[:, 1].max() + 1\n",
    "    xx, yy = np.meshgrid(np.arange(x_min, x_max, h), np.arange(y_min, y_max, h))\n",
    "    return (xx,yy,np.ones(xx.shape))\n",
    "\n",
    "def plot_learning_simple(grid,data,A,B,C,iteration, accuracy):\n",
    "    xx,yy,Z = grid\n",
    "    \n",
    "    for i in range(xx.shape[0]): # row\n",
    "        for j in range(yy.shape[1]): #column\n",
    "            X, Y = xx[i][j],yy[i][j]\n",
    "            output = A*X + B*Y + C\n",
    "            output = 1 if output > 0 else -1\n",
    "            Z[i][j] = output\n",
    "\n",
    "    fig = plt.figure(figsize=(5,5))\n",
    "    ax = fig.add_subplot(111)\n",
    "    plt.title(f'accuracy at the iteration {iteration}: {accuracy}')\n",
    "    ax.contourf(xx, yy, Z, cmap=plt.cm.binary, alpha=0.1, zorder=15)\n",
    "    ax.scatter(data[:, 0], data[:, 1], c=labels, s=50,  cmap=plt.cm.bwr,zorder=50)\n",
    "    ax.set_aspect('equal')\n",
    "    nudge = 0.08\n",
    "    for i in range(data.shape[0]):\n",
    "        d = data[i]\n",
    "        ax.annotate(f'{i}',(d[0]+nudge,d[1]+nudge))\n",
    "    plt.xlim(xx.min(), xx.max())\n",
    "    plt.ylim(yy.min(), yy.max())\n",
    "    plt.show()"
   ]
  },
  {
   "cell_type": "markdown",
   "metadata": {},
   "source": [
    "Here is the main algorithm."
   ]
  },
  {
   "cell_type": "code",
   "execution_count": null,
   "metadata": {},
   "outputs": [],
   "source": [
    "def train_neural_network(data, labels, step_size, no_loops, iter_info):\n",
    "    #A, B, and C are parameters of the function F. Here, they are set to 1, -2, -1\n",
    "    A, B, C = 1, -2, -1\n",
    "    # this function is used for plotting, it can be ignored\n",
    "    grid = create_meshgrid(data)\n",
    "    \n",
    "    # the main training loop\n",
    "    for i in range(no_loops):\n",
    "        # we randomly select the data point, and store its info into: x,y,label\n",
    "        index = np.random.randint(data.shape[0])\n",
    "        X,Y = data[index]\n",
    "        label = labels[index]\n",
    "        # we calculate the output of the function\n",
    "        output = A*X + B*Y + C\n",
    "        # We need to define how to affect parameters.\n",
    "        # If the label is 1 but the output is smaller than 1, we want to push the score up.\n",
    "        # If the label is -1 but the output is larger than -1, we want to push the score down.\n",
    "        sign = 0.0\n",
    "        if (label == 1 and output <= 1):\n",
    "            sign = 1.0\n",
    "        if (label ==-1 and output > -1):\n",
    "            sign = -1.0\n",
    "        # here we update the values with the partial derivatives, and regularization.\n",
    "        # partial derivative of dF/dA is X, dF/dB is Y, and of dF/dC is 1. \n",
    "        A = A + X * sign * step_size\n",
    "        B = B + Y * sign * step_size\n",
    "        C = C + sign * step_size;\n",
    "        \n",
    "        # after a number of iterations, show training accuracy and plot it\n",
    "        if (i%iter_info==0):\n",
    "            accuracy = eval_accuracy(X,Y,A,B,C)\n",
    "            plot_learning_simple(grid,data,A,B,C,i,accuracy)\n",
    "    # the algorithm returns the learned parameters A, B, and C\n",
    "    return (A,B,C)"
   ]
  },
  {
   "cell_type": "code",
   "execution_count": null,
   "metadata": {
    "scrolled": false
   },
   "outputs": [],
   "source": [
    "train_1 = train_neural_network(data, labels, 0.01, 1000, 200)"
   ]
  },
  {
   "cell_type": "markdown",
   "metadata": {},
   "source": [
    "We can inspect the result by comparing the real label of a data point and the predicted label:"
   ]
  },
  {
   "cell_type": "code",
   "execution_count": null,
   "metadata": {
    "code_folding": [
     0
    ]
   },
   "outputs": [],
   "source": [
    "def show_prediction(train, data, labels):\n",
    "    a, b, c = train\n",
    "    for i in range(data.shape[0]):\n",
    "        x,y = data[i]\n",
    "        label = labels[i]\n",
    "        score = a*x + b*y + c\n",
    "        score = 1 if score > 0 else -1\n",
    "        print (f'data point {i}: real label : {label}, pred. label: {score}, {(score==label)}')"
   ]
  },
  {
   "cell_type": "code",
   "execution_count": null,
   "metadata": {},
   "outputs": [],
   "source": [
    "show_prediction(train_1,data,labels)"
   ]
  }
 ],
 "metadata": {
  "kernelspec": {
   "display_name": "Python 3",
   "language": "python",
   "name": "python3"
  },
  "language_info": {
   "codemirror_mode": {
    "name": "ipython",
    "version": 3
   },
   "file_extension": ".py",
   "mimetype": "text/x-python",
   "name": "python",
   "nbconvert_exporter": "python",
   "pygments_lexer": "ipython3",
   "version": "3.7.0"
  }
 },
 "nbformat": 4,
 "nbformat_minor": 2
}
