{
 "cells": [
  {
   "cell_type": "code",
   "execution_count": null,
   "metadata": {},
   "outputs": [],
   "source": [
    "%config InlineBackend.figure_format = 'retina'\n",
    "import matplotlib.pyplot as plt\n",
    "import numpy as np\n",
    "np.set_printoptions(precision=3)\n",
    "np.set_printoptions(suppress=True)"
   ]
  },
  {
   "cell_type": "markdown",
   "metadata": {},
   "source": [
    "### 3-layer neural network"
   ]
  },
  {
   "cell_type": "markdown",
   "metadata": {},
   "source": [
    "Our dataset contains several 2D points:"
   ]
  },
  {
   "cell_type": "code",
   "execution_count": null,
   "metadata": {},
   "outputs": [],
   "source": [
    "data = np.array([[ 1.2, 0.7],\n",
    "                 [-0.3,-0.5],\n",
    "                 [ 3.0, 0.1],\n",
    "                 [-0.1,-1.0],\n",
    "                 [-0.0, 1.1],\n",
    "                 [ 2.1,-1.3],\n",
    "                 [ 3.1,-1.8],\n",
    "                 [ 1.1,-0.1],\n",
    "                 [ 1.5,-2.2],\n",
    "                 [ 4.0,-1.0]])\n",
    "\n",
    "labels = np.array([  1,\n",
    "                    -1,\n",
    "                     1,\n",
    "                    -1,\n",
    "                    -1,\n",
    "                     1,\n",
    "                    -1,\n",
    "                     1,\n",
    "                    -1,\n",
    "                    -1])"
   ]
  },
  {
   "cell_type": "code",
   "execution_count": null,
   "metadata": {
    "code_folding": [
     0
    ]
   },
   "outputs": [],
   "source": [
    "def plot_data(data, labels):\n",
    "    fig = plt.figure(figsize=(5,5))\n",
    "    ax = fig.add_subplot(111)\n",
    "    ax.scatter(data[:,0], data[:,1], c=labels, s=50,  cmap=plt.cm.bwr,zorder=50)\n",
    "    nudge = 0.08\n",
    "    for i, d in enumerate(data):\n",
    "        ax.annotate(f'{i}',(d[0]+nudge,d[1]+nudge))\n",
    "    ax.set_aspect('equal', 'datalim')\n",
    "    plt.show()"
   ]
  },
  {
   "cell_type": "code",
   "execution_count": null,
   "metadata": {},
   "outputs": [],
   "source": [
    "plot_data(data, labels)"
   ]
  },
  {
   "cell_type": "markdown",
   "metadata": {},
   "source": [
    "This is the neural network's architecture:"
   ]
  },
  {
   "cell_type": "markdown",
   "metadata": {},
   "source": [
    "<img src=\"img/neural_networks_23.png\" alt=\"drawing\" width=\"650\"/>"
   ]
  },
  {
   "cell_type": "code",
   "execution_count": null,
   "metadata": {},
   "outputs": [],
   "source": [
    "def sigmoid(x):\n",
    "    return 1 / (1 + np.exp(-x))\n",
    "\n",
    "def create_meshgrid(data):\n",
    "    h = 0.02\n",
    "    x_min, x_max = data[:, 0].min() - 1, data[:, 0].max() + 1\n",
    "    y_min, y_max = data[:, 1].min() - 1, data[:, 1].max() + 1\n",
    "    xx, yy = np.meshgrid(np.arange(x_min, x_max, h), np.arange(y_min, y_max, h))\n",
    "    return (xx,yy,np.ones(xx.shape))\n",
    "\n",
    "def eval_accuracy_neural(params, data, labels):\n",
    "    A1, A2, A3, B1, B2, B3, C1, C2, C3 = params\n",
    "    num_correct = 0;\n",
    "    data_len = len(data)\n",
    "    \n",
    "    for (X,Y), true_label in zip(data, labels):\n",
    "        output = A3*sigmoid(A1*X + B1*Y + C1) + B3*sigmoid(A2*X + B2*Y + C2) + C3\n",
    "        predicted_label = 1 if output > 1 else -1 if output < -1 else 0\n",
    "        \n",
    "        if (predicted_label == true_label):\n",
    "            num_correct += 1\n",
    "    return num_correct / data_len\n",
    "\n",
    "def plot_neural_simple(params, grid,data, labels, iteration, accuracy):\n",
    "    nudge = 0.06\n",
    "    A1, A2, A3, B1, B2, B3, C1, C2, C3 = params\n",
    "    xx,yy,Z = grid\n",
    "    \n",
    "    for i in range(xx.shape[0]): # row\n",
    "        for j in range(yy.shape[1]): #column\n",
    "            X, Y = xx[i][j],yy[i][j]\n",
    "            output = A3*sigmoid(A1*X + B1*Y + C1) + B3*sigmoid(A2*X + B2*Y + C2) + C3\n",
    "            predicted_label = 1 if output > 1 else -1 if output < -1 else 0\n",
    "            Z[i][j] = predicted_label\n",
    "\n",
    "    fig = plt.figure(figsize=(5,5))\n",
    "    ax = fig.add_subplot(111)\n",
    "    plt.title(f'accuracy at the iteration {iteration}: {accuracy}')\n",
    "    ax.contourf(xx, yy, Z, cmap=plt.cm.binary, alpha=0.1, zorder=15)\n",
    "    ax.scatter(data[:, 0], data[:, 1], c=labels, s=50,  cmap=plt.cm.bwr,zorder=50)\n",
    "    ax.set_aspect('equal')\n",
    "    for i, d in enumerate(data):\n",
    "        ax.annotate(f'{i}',(d[0]+nudge,d[1]+nudge))\n",
    "    plt.xlim(xx.min(), xx.max())\n",
    "    plt.ylim(yy.min(), yy.max())\n",
    "    plt.show()"
   ]
  },
  {
   "cell_type": "markdown",
   "metadata": {},
   "source": [
    "The algorithm:"
   ]
  },
  {
   "cell_type": "code",
   "execution_count": null,
   "metadata": {
    "code_folding": [
     80,
     87,
     102
    ],
    "scrolled": false
   },
   "outputs": [],
   "source": [
    "def train_neural_network(data, labels, step_size, no_loops, iter_info):\n",
    "    rnd = np.random.normal(size=9)\n",
    "\n",
    "    # hidden layer neuron 1\n",
    "    A1, B1, C1 = rnd[0], rnd[1], rnd[2]\n",
    "\n",
    "    # hidden layer neuron 2\n",
    "    A2, B2, C2 = rnd[3], rnd[4], rnd[5]\n",
    "    \n",
    "    # output layer neuron\n",
    "    A3, B3, C3 = rnd[6], rnd[7], rnd[8]\n",
    "    \n",
    "    grid = create_meshgrid(data)\n",
    "\n",
    "    for i in range(no_loops):\n",
    "        # get a single random data point\n",
    "        index = np.random.randint(len(data))\n",
    "        # get X, Y of that data point and its label\n",
    "        X,Y = data[index]\n",
    "        label = labels[index]\n",
    "\n",
    "        # forward pass\n",
    "        N1 = sigmoid(A1*X + B1*Y + C1) # 1st neuron\n",
    "        N2 = sigmoid(A2*X + B2*Y + C2) # 2nd neuron\n",
    "        S = A3*N1 + B3*N2 + C3 # final activation\n",
    "\n",
    "        sign = 1 if (label == 1 and S < 1) else -1 if (label == -1 and S > -1) else 0\n",
    "\n",
    "        # backpropagating through the network\n",
    "        # partial derivatives of the neuron s\n",
    "        dA3, dB3, dC3 = N1, N2, 1\n",
    "        # partial derivatives of the neuron n1\n",
    "        dz1 = A3*N1*(1-N1)\n",
    "        dA1, dB1, dC1 = dz1*X, dz1*Y, dz1\n",
    "        # partial derivatives of the neuron n2\n",
    "        dz2 = B3*N2*(1-N2)\n",
    "        dA2, dB2, dC2 = dz2*X, dz2*Y, dz2\n",
    "        \n",
    "        # finally, do the parameter update\n",
    "        A1 += sign * dA1 * step_size\n",
    "        B1 += sign * dB1 * step_size\n",
    "        C1 += sign * dC1 * step_size\n",
    "        A2 += sign * dA2 * step_size\n",
    "        B2 += sign * dB2 * step_size\n",
    "        C2 += sign * dC2 * step_size\n",
    "        A3 += sign * dA3 * step_size\n",
    "        B3 += sign * dB3 * step_size\n",
    "        C3 += sign * dC3 * step_size\n",
    "        \n",
    "        params = A1, A2, A3, B1, B2, B3, C1, C2, C3\n",
    "        \n",
    "        if (i%iter_info==0):\n",
    "            accuracy = eval_accuracy_neural(params,data,labels)\n",
    "            plot_neural_simple(params,grid, data, labels, i, accuracy)\n",
    "        \n",
    "    return (A1, A2, A3, B1, B2, B3, C1, C2, C3)"
   ]
  },
  {
   "cell_type": "code",
   "execution_count": null,
   "metadata": {
    "scrolled": false
   },
   "outputs": [],
   "source": [
    "train = train_neural_network(data, labels, 0.01, 30001, 2500)"
   ]
  },
  {
   "cell_type": "code",
   "execution_count": null,
   "metadata": {},
   "outputs": [],
   "source": [
    "A1,A2,A3,B1,B2,B3,C1,C2,C3 = train\n",
    "for i, ((X,Y), label) in enumerate(zip(data, labels)):\n",
    "    output = A3*sigmoid(A1*X + B1*Y + C1) + B3*sigmoid(A2*X + B2*Y + C2) + C3\n",
    "    predicted_label = 1 if output > 1 else -1 if output < -1 else 0\n",
    "    print (f'''data point {i}: real label : {label}, pred. label: {predicted_label}, prediction correct: {(label==predicted_label)}''')"
   ]
  },
  {
   "cell_type": "markdown",
   "metadata": {},
   "source": [
    "#### Task 1:\n",
    "Modify the previous code by adding the sigmoid activation to the output neuron and implementing the MSE cost function:"
   ]
  },
  {
   "cell_type": "markdown",
   "metadata": {},
   "source": [
    "<img src=\"img/neural_networks_25c.png\" alt=\"drawing\" width=\"900\"/>"
   ]
  },
  {
   "cell_type": "markdown",
   "metadata": {},
   "source": [
    "\\begin{align*}\n",
    "\\frac{\\partial C}{\\partial z_3}&=-2(label-S) \\cdot S(1-S) \\\\\\\\\n",
    "\\frac{\\partial z_3}{\\partial z_1}&=A_3 \\cdot N_1(1-N_1) \\\\\\\\\n",
    "\\frac{\\partial z_3}{\\partial z_2}&=B_3 \\cdot N_2(1-N_2)\n",
    "\\end{align*}"
   ]
  },
  {
   "cell_type": "code",
   "execution_count": null,
   "metadata": {},
   "outputs": [],
   "source": []
  },
  {
   "cell_type": "markdown",
   "metadata": {},
   "source": [
    "#### Task 2:\n",
    "Loop through all the data point once and for each point print the coordinates and the label:"
   ]
  },
  {
   "cell_type": "code",
   "execution_count": null,
   "metadata": {},
   "outputs": [],
   "source": []
  },
  {
   "cell_type": "markdown",
   "metadata": {},
   "source": [
    "#### Task 3:\n",
    "Loop through all the data three times. In each interation, print its index, and and for each point print the coordinates and the label:"
   ]
  },
  {
   "cell_type": "code",
   "execution_count": null,
   "metadata": {},
   "outputs": [],
   "source": []
  },
  {
   "cell_type": "markdown",
   "metadata": {},
   "source": [
    "#### Task 4:\n",
    "Modify the previous code by cumulatively summing `x` and `y` coordinates in each loop. Sum `x`'s in`sumx`and `y`'s in `sumy`. After each loop print the sum."
   ]
  },
  {
   "cell_type": "code",
   "execution_count": null,
   "metadata": {},
   "outputs": [],
   "source": []
  },
  {
   "cell_type": "markdown",
   "metadata": {},
   "source": [
    "#### Task 5:\n",
    "Modify the classification algorithm by introducing epochs and full-batch training (updating the weights and biases only after the neural network has seen all the data points once)"
   ]
  },
  {
   "cell_type": "code",
   "execution_count": null,
   "metadata": {},
   "outputs": [],
   "source": []
  }
 ],
 "metadata": {
  "kernelspec": {
   "display_name": "Python 3",
   "language": "python",
   "name": "python3"
  },
  "language_info": {
   "codemirror_mode": {
    "name": "ipython",
    "version": 3
   },
   "file_extension": ".py",
   "mimetype": "text/x-python",
   "name": "python",
   "nbconvert_exporter": "python",
   "pygments_lexer": "ipython3",
   "version": "3.7.0"
  }
 },
 "nbformat": 4,
 "nbformat_minor": 2
}
