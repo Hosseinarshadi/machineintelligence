{
 "cells": [
  {
   "cell_type": "markdown",
   "metadata": {},
   "source": [
    "# Geometric Interpretation of the Derivative"
   ]
  },
  {
   "cell_type": "markdown",
   "metadata": {},
   "source": [
    "## Quadratic function"
   ]
  },
  {
   "cell_type": "markdown",
   "metadata": {},
   "source": [
    "Our last example was a quadratic function of the form $s(t)=t^2$."
   ]
  },
  {
   "cell_type": "markdown",
   "metadata": {},
   "source": [
    "<img src=\"img/derivatives-14.png\" alt=\"drawing\" width=\"500\"/>"
   ]
  },
  {
   "cell_type": "markdown",
   "metadata": {},
   "source": [
    "We have have calculated the derivative of this function algebraically. First we defined the derivative of the function in terms of limits as:"
   ]
  },
  {
   "cell_type": "markdown",
   "metadata": {},
   "source": [
    "\\begin{align*} \n",
    "\\require{cancel}\n",
    "\\frac{ds}{dt}&=\\lim_{h\\to 0}\\frac{s(t+h)-s(t)}{h} \\\\\n",
    "\\end{align*}"
   ]
  },
  {
   "cell_type": "markdown",
   "metadata": {},
   "source": [
    "By replacing $s(t+h)$ with $(t+h)^2$, $s(t)$ with $t^2$ and applying algebraic operations, we have reached the  result: The derivative of the function $s(t)=t^2$ is an another function $s'(t)=2t$."
   ]
  },
  {
   "cell_type": "markdown",
   "metadata": {},
   "source": [
    "\\begin{align*} \n",
    "\\frac{d}{dt}t^2=2t\n",
    "\\end{align*}\n",
    "\n"
   ]
  },
  {
   "cell_type": "markdown",
   "metadata": {},
   "source": [
    "This idea can also be described as a mapping from one function to another. In this way we can think of the symbol $\\frac{d}{dt}$ as an operator:"
   ]
  },
  {
   "cell_type": "markdown",
   "metadata": {},
   "source": [
    "\\begin{align*} \n",
    "t^2\\xrightarrow{\\frac{d}{dt}}2t\n",
    "\\end{align*}"
   ]
  },
  {
   "cell_type": "markdown",
   "metadata": {},
   "source": [
    "The graph of the output function on the right is a straight line passing through the origin:"
   ]
  },
  {
   "cell_type": "markdown",
   "metadata": {},
   "source": [
    "<img src=\"img/derivatives-18.png\" alt=\"drawing\" width=\"500\"/>"
   ]
  },
  {
   "cell_type": "markdown",
   "metadata": {},
   "source": [
    "This process however might give us an impression that the idea of derivatives can be only accessed and interpreted from the algebraic point of view. I would like to show you that there can be multiple perspectives on the concept of a derivative. Having more than one perspective on the topic is preferential: where one perspective lacks to render the concept understandable, another one usually makes it easier. "
   ]
  },
  {
   "cell_type": "markdown",
   "metadata": {},
   "source": [
    "The function $s(t)=t^2$ involves __squaring__ the value of time $t$, or multiplying its value twice by itself. If $s(t)$ was a geometrical figure, $t^2$ would indicate that it is a square, since the area of the square is equal to $A=\\text{side}^2$. Whatever the value one side of this figure takes (indicated by $t$), the perpendicular side will take the exact same value. By changing the value $t$, the __area__ of the square will change correspondingly. "
   ]
  },
  {
   "cell_type": "markdown",
   "metadata": {},
   "source": [
    "<img src=\"img/derivatives-19.png\" alt=\"drawing\" width=\"350\"/>"
   ]
  },
  {
   "cell_type": "markdown",
   "metadata": {},
   "source": [
    "Now, the fundamental idea of applying the derivative is to determine how will the output of this function change in terms of its input, if we increase the input for a very small amount. From the geometrical point of view, the input is the length of the square's sides, and the output is the square's area. We start with the side lenght of $t$, which gives us the blue area $t^2$. Then we increase the lenght of both sides for a small amount $dt$. This gives us the purple area, representing the change of area. Let's call the purple area $ds$. Keep in mind that the image below is drawn so that we can display and name the elements. $dt$ and its corresponding purple area $ds$ should in fact be very very small."
   ]
  },
  {
   "cell_type": "markdown",
   "metadata": {},
   "source": [
    "<img src=\"img/derivatives-20.png\" alt=\"drawing\" width=\"700\"/>"
   ]
  },
  {
   "cell_type": "markdown",
   "metadata": {},
   "source": [
    "According to the diagram above, we can decompose the purple area into 3 parts:\n",
    "1. The upper rectangle with the area $t \\cdot dt$\n",
    "2. The right rectangle with the area $t \\cdot dt$\n",
    "3. The small square with the area $(dt)^2$"
   ]
  },
  {
   "cell_type": "markdown",
   "metadata": {},
   "source": [
    "<img src=\"img/derivatives-21.png\" alt=\"drawing\" width=\"350\"/>"
   ]
  },
  {
   "cell_type": "markdown",
   "metadata": {},
   "source": [
    "The new purple area $ds$ caused by extending the square's side will be equal to $2tdt + (dt)^2$. This is the change that was brought about with introducing the $dt$. Therefore to compute the change in area (output) in terms of the change of sides's length (input), we need to divide the $ds$ by the $dt$:"
   ]
  },
  {
   "cell_type": "markdown",
   "metadata": {},
   "source": [
    "\\begin{align*}\n",
    "\\require{cancel}\n",
    "\\frac{ds}{dt} =  \\frac {2tdt + (dt)^2} {dt}\n",
    "\\end{align*}"
   ]
  },
  {
   "cell_type": "markdown",
   "metadata": {},
   "source": [
    "If we applied algebraic rules now, we could factor the $dt$ from the denominator, and cancel it with the $dt$ from the numerator. However, let's try to stay within geometry. We are interested to know what happens to the 3 areas, as the value of $dt$ is approaching zero."
   ]
  },
  {
   "cell_type": "markdown",
   "metadata": {},
   "source": [
    "First, consider that only one of the dimensions of the two rectangles is equal to $dt$. Its other dimension is fixed to whatever value $t$ is. The small square, on the other side has both dimensions equal to $dt$. The question is, are the rectangles shrinking as fast as the square? The example below will try to answer that. "
   ]
  },
  {
   "cell_type": "markdown",
   "metadata": {},
   "source": [
    "Here we start with two shapes of the same area. The blue rectangle's height is fixed at $x$ and its width $dx$ shrinks while approaching zero. The both sides of the red square are equal to $dx$. As $dx$ approaches zero, the ratio of the red area to the blue area approaches zero percent! The blue shape will collapse into a line segment, while the red shape will collapse into a point! This tells us that raising the infinitesimals such is $dx$ to power will yield negligibly small values (even in relation to the\n",
    "infinitely small) that can safely be ignored in computation."
   ]
  },
  {
   "cell_type": "markdown",
   "metadata": {},
   "source": [
    "![SegmentLocal](img/derivatives-22.gif \"segment\")"
   ]
  },
  {
   "cell_type": "markdown",
   "metadata": {},
   "source": [
    "For this reason we can now cancel the tiny square from the calculation, knowing that it simply cannot survive the $dt$ approaching zero."
   ]
  },
  {
   "cell_type": "markdown",
   "metadata": {},
   "source": [
    "\\begin{align*}\n",
    "\\require{cancel}\n",
    "\\frac {2tdt + \\cancel{(dt)^2}} {dt}\n",
    "\\end{align*}"
   ]
  },
  {
   "cell_type": "markdown",
   "metadata": {},
   "source": [
    "We are left with:"
   ]
  },
  {
   "cell_type": "markdown",
   "metadata": {},
   "source": [
    "\\begin{align*}\n",
    "\\require{cancel}\n",
    "\\frac {2t \\space dt} {dt}\n",
    "\\end{align*}"
   ]
  },
  {
   "cell_type": "markdown",
   "metadata": {},
   "source": [
    "As $dt$ approaches zero, we can see that the denominator is $2t$ times larger than the numerator. In other words, for a small change of the lenght of the sides, the area of our square will change twice as much as the value of $t$ at that point! Again, we come to the same result that we got by applying algebraic rules:"
   ]
  },
  {
   "cell_type": "markdown",
   "metadata": {},
   "source": [
    "\\begin{align*} \n",
    "\\frac{d}{dt}t^2=2t\n",
    "\\end{align*}\n",
    "\n"
   ]
  },
  {
   "cell_type": "markdown",
   "metadata": {},
   "source": [
    "The animation below shows the dynamics of decomposing a quadratic function into a product of two linear functions, and interpreting it as an area of a square. This allows us to think of the value $ds$ as the new area caused by increasing the value of $t$. "
   ]
  },
  {
   "cell_type": "markdown",
   "metadata": {},
   "source": [
    "![SegmentLocal](img/derivatives-23.gif \"segment\")"
   ]
  },
  {
   "cell_type": "markdown",
   "metadata": {},
   "source": [
    "## Linear function"
   ]
  },
  {
   "cell_type": "markdown",
   "metadata": {},
   "source": [
    "We can apply the same principle to finding a derivative of a linear function of the form $f(x)=ax+b$. On the image below we have the function $f(t)=5t$ interpreted as an area. "
   ]
  },
  {
   "cell_type": "markdown",
   "metadata": {},
   "source": [
    "<img src=\"img/derivatives-24.png\" alt=\"drawing\" width=\"350\"/>"
   ]
  },
  {
   "cell_type": "markdown",
   "metadata": {},
   "source": [
    "If we increase $t$ for a small amount $dt$, this will only increase one of the dimensions, while the other one will remain constant at $5$. "
   ]
  },
  {
   "cell_type": "markdown",
   "metadata": {},
   "source": [
    "<img src=\"img/derivatives-25.png\" alt=\"drawing\" width=\"350\"/>"
   ]
  },
  {
   "cell_type": "markdown",
   "metadata": {},
   "source": [
    "We can compute the derivative by considering what does the ratio between the change in area $ds$ and the change in lenth $dt$ that caused it will approach as $dt$ approaches zero."
   ]
  },
  {
   "cell_type": "markdown",
   "metadata": {},
   "source": [
    "\\begin{align*}\n",
    "\\require{cancel}\n",
    "\\frac{ds}{dt} =  \\frac {5dt} {dt}\n",
    "\\end{align*}"
   ]
  },
  {
   "cell_type": "markdown",
   "metadata": {},
   "source": [
    "As $dt$ approaches zero, we can see that the denominator is $5$ times larger than the numerator. In other words, for a small increase of one of the side lenghts, the overall increase of the area will remain constant and equal to 5."
   ]
  },
  {
   "cell_type": "markdown",
   "metadata": {},
   "source": [
    "\\begin{align*} \n",
    "\\frac{d}{dt}5t=5\n",
    "\\end{align*}\n",
    "\n"
   ]
  },
  {
   "cell_type": "markdown",
   "metadata": {},
   "source": [
    "or more generally, for any constant $c$ it applies:"
   ]
  },
  {
   "cell_type": "markdown",
   "metadata": {},
   "source": [
    "\\begin{align*} \n",
    "\\frac{d}{dt}ct=c\n",
    "\\end{align*}\n",
    "\n"
   ]
  },
  {
   "cell_type": "markdown",
   "metadata": {},
   "source": [
    "The animation below shows the dynamics of decomposing a linear function into a product of a linear function and an arbitrary constant, and interpreting the product as an area of a rectangle."
   ]
  },
  {
   "cell_type": "markdown",
   "metadata": {},
   "source": [
    "![SegmentLocal](img/derivatives-26.gif \"segment\")"
   ]
  },
  {
   "cell_type": "markdown",
   "metadata": {},
   "source": [
    "## Cubic function"
   ]
  },
  {
   "cell_type": "markdown",
   "metadata": {},
   "source": [
    "### An algebraic approach"
   ]
  },
  {
   "cell_type": "markdown",
   "metadata": {},
   "source": [
    "Finally, let's look at the cubic function of the form $f(x)=x^3$. First, let's try to find its derivative by applying algebraic rules:"
   ]
  },
  {
   "cell_type": "markdown",
   "metadata": {},
   "source": [
    "\\begin{align*}\n",
    "\\require{cancel}\n",
    "\\frac{d}{dt}x^3 &=\\lim_{h\\to 0}\\frac{f(x+h)-f(x)}{h} \\\\\\\\\n",
    "&=\\lim_{h\\to 0}\\frac{(x+h)^3-x^3}{h} \\\\\\\\\n",
    "&=\\lim_{h\\to 0}\\frac{\\cancel{x^3}+3x^2h+3xh^2+h^3-\\cancel{x^3}}{h} \\\\\\\\\n",
    "&=\\lim_{h\\to 0}\\frac{\\cancel{h}(3x^2+3xh+h^2)}{\\cancel{h}} \\\\\\\\\n",
    "\\end{align*}"
   ]
  },
  {
   "cell_type": "markdown",
   "metadata": {},
   "source": [
    "Now, it is time to ask what does the expression $3x^2+3xh+h^2$ approaches, as $h$ approaches zero? As $h$ approaches zero, $3xh$ will approach zero, as well as $h^2$, only much faster."
   ]
  },
  {
   "cell_type": "markdown",
   "metadata": {},
   "source": [
    "\\begin{align*}\n",
    "\\require{cancel}\n",
    "\\frac{d}{dx}x^3 &=3x^2+\\cancelto{0}{3xh}+\\cancelto{0}{h^2}\\\\\n",
    "\\end{align*}"
   ]
  },
  {
   "cell_type": "markdown",
   "metadata": {},
   "source": [
    "We can conclude that the expression  $3x^2+3xh+h^2$ approaches $3x^2$, as $h$ approaches zero, or that the derivative of the function $f(x)=x^3$ is equal to $3x^2$."
   ]
  },
  {
   "cell_type": "markdown",
   "metadata": {},
   "source": [
    "\\begin{align*} \n",
    "\\frac{d}{dx}x^3=3x^2 \\\\\n",
    "\\end{align*}\n",
    "\n"
   ]
  },
  {
   "cell_type": "markdown",
   "metadata": {},
   "source": [
    "\\begin{align*} \n",
    "\\text{or}\n",
    "\\end{align*}\n",
    "\n"
   ]
  },
  {
   "cell_type": "markdown",
   "metadata": {},
   "source": [
    "\\begin{align*} \n",
    "x^3\\xrightarrow{\\frac{d}{dx}}3x^2 \\\\\n",
    "\\end{align*}"
   ]
  },
  {
   "cell_type": "markdown",
   "metadata": {},
   "source": [
    "### A geometric approach"
   ]
  },
  {
   "cell_type": "markdown",
   "metadata": {},
   "source": [
    "Let's see how we can interpret the result $3x^2$ of applying the derivative from a geometric point of view."
   ]
  },
  {
   "cell_type": "markdown",
   "metadata": {},
   "source": [
    "First, we will interpret the operation of raising a variable to the third power as the formula for calculating the volume of a cube. If the cube's side is of length $x$, we can compute its volume by the formula $V=x^3$."
   ]
  },
  {
   "cell_type": "markdown",
   "metadata": {},
   "source": [
    "<img src=\"img/derivatives-27.png\" alt=\"drawing\" width=\"350\"/>"
   ]
  },
  {
   "cell_type": "markdown",
   "metadata": {},
   "source": [
    "Like in the previous cases, we now increase the length of all the sides of the cube by the amount $dx$. What we get is another cube with the volume $V=(x+dx)^3$."
   ]
  },
  {
   "cell_type": "markdown",
   "metadata": {},
   "source": [
    "<img src=\"img/derivatives-28.png\" alt=\"drawing\" width=\"350\"/>"
   ]
  },
  {
   "cell_type": "markdown",
   "metadata": {},
   "source": [
    "Let us decompose this newly obtained cube. It consists of the old cube marked in gray whose volume is equal to $x^3$, but around it there some new elements:\n",
    "1. The top blue plate of the volume $x^2dx$\n",
    "2. The side blue plate of the volume $x^2dx$\n",
    "3. The back blue plate of the volume $x^2dx$\n",
    "4. The top pink elongated prism of the volume $x*(dx)^2$\n",
    "5. The side pink elongated prism of the volume $x*(dx)^2$\n",
    "6. The back pink elongated prism of the volume $x*(dx)^2$\n",
    "7. The top green cube of the volume $(dx^3)$"
   ]
  },
  {
   "cell_type": "markdown",
   "metadata": {},
   "source": [
    "<img src=\"img/derivatives-29.png\" alt=\"drawing\" width=\"350\"/>"
   ]
  },
  {
   "cell_type": "markdown",
   "metadata": {},
   "source": [
    "Here we can see all 7 elements isolated:"
   ]
  },
  {
   "cell_type": "markdown",
   "metadata": {},
   "source": [
    "<img src=\"img/derivatives-30.png\" alt=\"drawing\" width=\"550\"/>"
   ]
  },
  {
   "cell_type": "markdown",
   "metadata": {},
   "source": [
    "Four out of seven of the new elements contain terms in which $dx$ is raised to a power higher than one. Pink prisms contain $(dx)^2$ and the green cube contains $(dx)^3$. This means that as we let $dx$ approach zero, blue plates will almost collapse into planes, pink prisms will almost colaps into lines, and the green cube almost collapse into a point. This process will render a cube incomensurably smaller than a pink prism, and the prisms incomensurably smaller than the plates. Since we are considering the level of magnitude introduced by the $dx$, we can safely ignore all smaller orders of magnitude in which this term is raised to a power."
   ]
  },
  {
   "cell_type": "markdown",
   "metadata": {},
   "source": [
    "Let's compare this situation to one of the steps of our algebraic solution:"
   ]
  },
  {
   "cell_type": "markdown",
   "metadata": {},
   "source": [
    "\\begin{align*}\n",
    "\\require{cancel}\n",
    "\\frac{d}{dt}x^3 &=\\lim_{h\\to 0}\\frac{\\cancel{x^3}+3x^2h+3xh^2+h^3-\\cancel{x^3}}{h} \\\\\\\\\n",
    "\\end{align*}"
   ]
  },
  {
   "cell_type": "markdown",
   "metadata": {},
   "source": [
    "The three not cancelled terms in the denominator correspond to the elements on the illustration above. The expression $3x^2h$ corresponds to the 3 blue plates, $3xh^2$ to the 3 pink elongated prisms, and the $h^3$ to the small green cube."
   ]
  },
  {
   "cell_type": "markdown",
   "metadata": {},
   "source": [
    "By ignoring the pink and the green elements, we are left with the three blue plates each of the volume $x^2dx$. Thus, their total volume is equal to $df = 3x^2dx$. This volume represents the bulk of the change of cube's volume, as a result of increasing its side length for the amount of $dx$. To find the derivative, we need to divide this change in area by the change in length that caused it (as the length approaches zero):"
   ]
  },
  {
   "cell_type": "markdown",
   "metadata": {},
   "source": [
    "\\begin{align*} \n",
    "\\frac{df}{dx}=\\frac{3x^2dx}{dx} \\\\\n",
    "\\end{align*}\n",
    "\n"
   ]
  },
  {
   "cell_type": "markdown",
   "metadata": {},
   "source": [
    "As the thickness of the plate $dx$ approaches zero, the denominator remains $3x^2$ times larger than the numerator. In other words, for a small change of the side's length, cube's volume will increase 3 times the square of the current side length $x$. Again we end up with the same expression for the derivative of the function:"
   ]
  },
  {
   "cell_type": "markdown",
   "metadata": {},
   "source": [
    "\\begin{align*} \n",
    "\\frac{d}{dt}x^3=3x^2\n",
    "\\end{align*}\n",
    "\n"
   ]
  },
  {
   "cell_type": "markdown",
   "metadata": {},
   "source": [
    "The benefit of acquiring the geometric interpretation is that the purely algebraic elements in the calculation obtain some geometric meaning. The same applies to the solution: now we have an idea that the expression $3x^2$ refers to the area of the 3 blue plates that survived collapsing their thickness towards zero. This is certainly better than relying purely on the mechanics of algebraic operations to derive a result. "
   ]
  }
 ],
 "metadata": {
  "kernelspec": {
   "display_name": "Python 3",
   "language": "python",
   "name": "python3"
  },
  "language_info": {
   "codemirror_mode": {
    "name": "ipython",
    "version": 3
   },
   "file_extension": ".py",
   "mimetype": "text/x-python",
   "name": "python",
   "nbconvert_exporter": "python",
   "pygments_lexer": "ipython3",
   "version": "3.7.0"
  }
 },
 "nbformat": 4,
 "nbformat_minor": 2
}
