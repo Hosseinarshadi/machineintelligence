{
 "cells": [
  {
   "cell_type": "code",
   "execution_count": 1,
   "metadata": {},
   "outputs": [],
   "source": [
    "%config InlineBackend.figure_format = 'retina'\n",
    "import matplotlib.pyplot as plt\n",
    "import numpy as np\n",
    "np.set_printoptions(precision=3)\n",
    "np.set_printoptions(suppress=True)"
   ]
  },
  {
   "cell_type": "markdown",
   "metadata": {},
   "source": [
    "# Machine Learning"
   ]
  },
  {
   "cell_type": "markdown",
   "metadata": {},
   "source": [
    "## Binary Classification"
   ]
  },
  {
   "cell_type": "markdown",
   "metadata": {},
   "source": [
    "The simplest, common and yet very practical problem in machine learning is __binary classification__. What does binary classification mean? Let's see an example. Let's say that you have a lot of images of cats and dogs. When you look at the picture, you know whether it contains a dog or a cat. But you want to teach the computer to recognise them. What you want to achieve is: you give a computer an image as an input. Its output should be: this is a dog, or this is a cat. The binary in binary classification means that computer can only tell you two answers, dog, or a cat, an nothing more."
   ]
  },
  {
   "cell_type": "markdown",
   "metadata": {},
   "source": [
    "To achieve this requires two things. You need the __data__. Data is usually represented in vectors. Later we will learn more about vectors, but for now, think of them as ordered list of numbers. So let's say that a picture of a dog or a cat can be encoded in 100 numbers. What else do you need? You need __labels__. A label defines the class associated with your data. In our case, a label could be a dog or a cat. But it is not necessary to think of a label as a string of text. Since we know that we only have two classes, we can say that we will label a picture of a dog with the number 1 and a picture of a cat with the number 0. This should work just as well. "
   ]
  },
  {
   "cell_type": "markdown",
   "metadata": {},
   "source": [
    "Let's introduce an example that is easier to implement at this stage. We have a data set below, containing 6 data points, each containing a 2-dimensional vector associated with a label. For example, a vector `[1.2, 0.7]` is associated with the label `+1`."
   ]
  },
  {
   "cell_type": "markdown",
   "metadata": {},
   "source": [
    "| vector [x,y] \t| label \t|\n",
    "|--------------\t|-------\t|\n",
    "| [ 1.2, 0.7]  \t| +1    \t|\n",
    "| [-0.3, -0.5] \t| -1    \t|\n",
    "| [3.0, 0.1]   \t| +1    \t|\n",
    "| [-0.1, -1.0] \t| -1    \t|\n",
    "| [-1.0, 1.1]  \t| -1    \t|\n",
    "| [2.1, -3.0]  \t| +1    \t|"
   ]
  },
  {
   "cell_type": "markdown",
   "metadata": {},
   "source": [
    "To get a better understanding of the data, we can plot these two-dimensional vectors on a cartesian plane:"
   ]
  },
  {
   "cell_type": "markdown",
   "metadata": {},
   "source": [
    "<img src=\"img/neural_networks_33.png\" alt=\"drawing\" width=\"500\"/>"
   ]
  },
  {
   "cell_type": "markdown",
   "metadata": {},
   "source": [
    "Here, the location on the point in the plane is given by the pair of coordinates, and its colour is defined by the label. Red points have the label `+1`, and the blue points have the label `-1`.  When we give the computer a pair of (x,y) coordinates, we want the computer to tell us should whether the point should be marked `-1`—red or `+1`—blue, according to what it knows from the data.  What does learning means in this case? The computer needs to define the boundary between these two given classes. This can be explained in more technical terms:"
   ]
  },
  {
   "cell_type": "markdown",
   "metadata": {},
   "source": [
    "<font color=blue> Our __goal__ in binary classification is to learn a function that takes an arbitrary 2-dimensional vector and predicts the label according to the provided data. This function is usually parameterized by a certain set of parameters, and we will want to tune the parameters of the function so that its outputs are consistent with the labeling in the provided dataset. In the end we can discard the dataset and use the learned parameters to predict labels for previously unseen vectors. </font>"
   ]
  },
  {
   "cell_type": "markdown",
   "metadata": {},
   "source": [
    "### Classification by using a simple linear function "
   ]
  },
  {
   "cell_type": "markdown",
   "metadata": {},
   "source": [
    "First we will use a simple linear function to implement binary classification:"
   ]
  },
  {
   "cell_type": "markdown",
   "metadata": {},
   "source": [
    "\\begin{align}\n",
    "F = f(\\mathbf{X},\\mathbf{Y})=A\\mathbf{X}+B\\mathbf{Y}+C\n",
    "\\end{align}"
   ]
  },
  {
   "cell_type": "markdown",
   "metadata": {},
   "source": [
    "Here, $\\mathbf{X}$ and $\\mathbf{Y}$ are the input vectors, and $A$, $B$ and $C$ are the parameters that we are trying to learn. This can be represented schematically:"
   ]
  },
  {
   "cell_type": "markdown",
   "metadata": {},
   "source": [
    "<img src=\"img/neural_networks_16.png\" alt=\"drawing\" width=\"400\"/>"
   ]
  },
  {
   "cell_type": "markdown",
   "metadata": {},
   "source": [
    "So, if our data point is $(\\mathbf{X},\\mathbf{Y})=$ `[1.2,0.7]`, and if the chosen parameters are $A=$ `1`, $B=$ `-2`, $C=$ `-3`."
   ]
  },
  {
   "cell_type": "code",
   "execution_count": 2,
   "metadata": {},
   "outputs": [],
   "source": [
    "X, Y, A, B, C = 1.2, 0.7, 1, -2, -3"
   ]
  },
  {
   "cell_type": "markdown",
   "metadata": {},
   "source": [
    "then the output of the function $F = f(\\mathbf{X},\\mathbf{Y})$ is:"
   ]
  },
  {
   "cell_type": "code",
   "execution_count": 3,
   "metadata": {},
   "outputs": [
    {
     "data": {
      "text/plain": [
       "-3.2"
      ]
     },
     "execution_count": 3,
     "metadata": {},
     "output_type": "execute_result"
    }
   ],
   "source": [
    "A*X + B*Y + C"
   ]
  },
  {
   "cell_type": "markdown",
   "metadata": {},
   "source": [
    "<img src=\"img/neural_networks_17.png\" alt=\"drawing\" width=\"400\"/>"
   ]
  },
  {
   "cell_type": "markdown",
   "metadata": {},
   "source": [
    "How can we use this setup to predict the label (`+1`, or `-1`) of an arbitrary vector, for example `[-2.1, 0.8]`, given only our data set?"
   ]
  },
  {
   "cell_type": "markdown",
   "metadata": {},
   "source": [
    "| vector [x,y] \t| label \t|\n",
    "|--------------\t|-------\t|\n",
    "| [ 1.2, 0.7]  \t| +1    \t|\n",
    "| [-0.3, -0.5] \t| -1    \t|\n",
    "| [3.0, 0.1]   \t| +1    \t|\n",
    "| [-0.1, -1.0] \t| -1    \t|\n",
    "| [-1.0, 1.1]  \t| -1    \t|\n",
    "| [2.1, -3.0]  \t| +1    \t|"
   ]
  },
  {
   "cell_type": "markdown",
   "metadata": {},
   "source": [
    "<img src=\"img/neural_networks_33.png\" alt=\"drawing\" width=\"500\"/>"
   ]
  },
  {
   "cell_type": "markdown",
   "metadata": {},
   "source": [
    "The prediction has to do with how do we interpret the output $F$ of the function $f(\\mathbf{X},\\mathbf{Y})$.<br>\n",
    "\n",
    "__We can define that in our algorithm, the parameters $A$, $B$, and $C$ must be tuned such that the function $f$ outputs a number greater than 0 when it encounters a data point associated with the label `+1`. In the same way, the function should output a number less (or equal to) than 0 when it encounters a data point associated with the label `-1`.__\n",
    "\n",
    "For example, when we plugged the vector $(\\mathbf{X},\\mathbf{Y})=$ `[1.2,0.7]` associated with the label `+1` into the function $f$ whose current parameters are <br> $[A,B,C]=$ `1, -2, -3` we got the result $F = -3.2$.<br>\n",
    "Since the label associated with this vector is `+1`, we want our function to output a number larger than 0. Instead we got `-3.2` which is less than 0. This tells us what needs to be done. We need to tweak the parameters `A`, `B` and `C` such that we *maximize* the ouput of the function—push it towards a positive number. Luckily we know how to do this with derivatives!\n"
   ]
  },
  {
   "cell_type": "markdown",
   "metadata": {},
   "source": [
    "#### Backpropagation"
   ]
  },
  {
   "cell_type": "markdown",
   "metadata": {},
   "source": [
    "In order to increase the output of the function $f$ we need to find the partial derivatives $\\frac{\\partial F}{\\partial A}$, $\\frac{\\partial F}{\\partial B}$ and $\\frac{\\partial F}{\\partial C}$. Note that we don't need to find the partials $\\frac{\\partial F}{\\partial \\mathbf{X}}$, and $\\frac{\\partial F}{\\partial \\mathbf{Y}}$ as these are our data points. They don't need to change!"
   ]
  },
  {
   "cell_type": "markdown",
   "metadata": {},
   "source": [
    "<img src=\"img/neural_networks_16.png\" alt=\"drawing\" width=\"400\"/>"
   ]
  },
  {
   "cell_type": "markdown",
   "metadata": {},
   "source": [
    "By using the chain rule, rules of differentiation and consulting the diagram above we can compute:"
   ]
  },
  {
   "cell_type": "markdown",
   "metadata": {},
   "source": [
    "\\begin{align*}\n",
    "\\frac{\\partial F}{\\partial A} &=\\frac{\\partial F}{\\partial G}*\\frac{\\partial G}{\\partial A}; &\\frac{\\partial F}{\\partial B} &=\\frac{\\partial F}{\\partial G}*\\frac{\\partial G}{\\partial B}; &\\frac{\\partial F}{\\partial C} ;& \\\\\\\\\n",
    "\\frac{\\partial F}{\\partial A} &=1*X &\\frac{\\partial F}{\\partial B} &=1*Y &\\frac{\\partial F}{\\partial C} &=1 \\\\\\\\\n",
    "\\frac{\\partial F}{\\partial A} &=X &\\frac{\\partial F}{\\partial B} &=Y &\\frac{\\partial F}{\\partial C} &=1\n",
    "\\end{align*}"
   ]
  },
  {
   "cell_type": "markdown",
   "metadata": {},
   "source": [
    "Since in this case we want to maximize our function we could translate this computation in code by simply writing `dA = X; dB = Y; dC = 1` and this would work. However, in some cases we will need to minimize our function. For that purpose it is useful to multiply `dA`, `dB` and `dC` with either `-1` or `+1` depending on the given situation. For that we can introduce a new variable `pull` that can be set to  `1` or `-1`:"
   ]
  },
  {
   "cell_type": "code",
   "execution_count": 4,
   "metadata": {},
   "outputs": [
    {
     "name": "stdout",
     "output_type": "stream",
     "text": [
      "dF/dA: 1.2\n",
      "dF/dB: 0.7\n",
      "dF/dC: 1\n"
     ]
    }
   ],
   "source": [
    "pull = 1 # since here we want to maximize the function\n",
    "\n",
    "dA = X * pull\n",
    "dB = Y * pull\n",
    "dC = 1 * pull\n",
    "print (f'dF/dA: {dA}\\ndF/dB: {dB}\\ndF/dC: {dC}')"
   ]
  },
  {
   "cell_type": "markdown",
   "metadata": {},
   "source": [
    "<img src=\"img/neural_networks_18.png\" alt=\"drawing\" width=\"400\"/>"
   ]
  },
  {
   "cell_type": "markdown",
   "metadata": {},
   "source": [
    "In order to gradually maximize the function $f$ (step-by-step) towards our desired result, we need to update our parameters. This is done by adding to the parameter's value the value of its partial derivative. To achieve this gradually in small steps, we multiply the value of the partial derivative by a a small number (step)."
   ]
  },
  {
   "cell_type": "code",
   "execution_count": 5,
   "metadata": {},
   "outputs": [],
   "source": [
    "step_size = 0.01\n",
    "A = A + dA * step_size\n",
    "B = B + dB * step_size\n",
    "C = C + dC * step_size"
   ]
  },
  {
   "cell_type": "markdown",
   "metadata": {},
   "source": [
    "If we now evaluate the function $f(\\mathbf{X},\\mathbf{Y})$, with the updated parameters $A$, $B$, and $C$, we get:"
   ]
  },
  {
   "cell_type": "code",
   "execution_count": 6,
   "metadata": {},
   "outputs": [
    {
     "data": {
      "text/plain": [
       "-3.1707"
      ]
     },
     "execution_count": 6,
     "metadata": {},
     "output_type": "execute_result"
    }
   ],
   "source": [
    "A*X + B*Y + C"
   ]
  },
  {
   "cell_type": "markdown",
   "metadata": {},
   "source": [
    "This result is better then the original result `-3.2` !"
   ]
  },
  {
   "cell_type": "markdown",
   "metadata": {},
   "source": [
    "#### Regularization"
   ]
  },
  {
   "cell_type": "markdown",
   "metadata": {},
   "source": [
    "In a machine learning algorithm like this, the parameters $A$, $B$, and $C$ are usually randomly initialised in the beginning. Sometimes with a given initialisation, it can happen during the training that a certain parameter(s) becomes much larger than the others. In our particular case $(F = A\\mathbf{X}+B\\mathbf{Y}+C)$ the parameters $A$ and $B$ can be especially problematic, since they multiply our data points $\\mathbf{X}$ and $\\mathbf{Y}$, and multiplication leads to a greater change of the output value $F$ than the addition ($C$).<br> For this reason, we can slightly push the parameters $A$ and $B$ towards zero with a given force that is proportional to their value. This is called __regularization__. <br> Let's re-initialise our parameters $A$, $B$, and $C$:"
   ]
  },
  {
   "cell_type": "code",
   "execution_count": 7,
   "metadata": {},
   "outputs": [],
   "source": [
    "A, B, C = 1, -2, -3"
   ]
  },
  {
   "cell_type": "markdown",
   "metadata": {},
   "source": [
    "Let's recompute the derivatives:"
   ]
  },
  {
   "cell_type": "code",
   "execution_count": 8,
   "metadata": {},
   "outputs": [
    {
     "name": "stdout",
     "output_type": "stream",
     "text": [
      "dF/dA: 1.2\n",
      "dF/dB: 0.7\n",
      "dF/dC: 1\n"
     ]
    }
   ],
   "source": [
    "pull = 1 # since here we want to maximize the function\n",
    "dA = X * pull\n",
    "dB = Y * pull\n",
    "dC = 1 * pull\n",
    "print (f'dF/dA: {dA}\\ndF/dB: {dB}\\ndF/dC: {dC}')"
   ]
  },
  {
   "cell_type": "markdown",
   "metadata": {},
   "source": [
    "When updating the parameters $A$, $B$, and $C$, regularization means that we now additionaly subtract the value of each parameter from its original value, multiplied by a constant that determines the strenght of regularization:"
   ]
  },
  {
   "cell_type": "code",
   "execution_count": 9,
   "metadata": {},
   "outputs": [],
   "source": [
    "step_size = 0.01\n",
    "reg_strength = 0.2\n",
    "A = A + step_size * (dA -A * reg_strength) \n",
    "B = B + step_size * (dB -B * reg_strength) \n",
    "C = C + step_size * pull;"
   ]
  },
  {
   "cell_type": "markdown",
   "metadata": {},
   "source": [
    "If we again evaluate the function $f(\\mathbf{X},\\mathbf{Y})$, with the updated parameters $A$, $B$, and $C$, we get:"
   ]
  },
  {
   "cell_type": "code",
   "execution_count": 10,
   "metadata": {},
   "outputs": [
    {
     "data": {
      "text/plain": [
       "-3.1703"
      ]
     },
     "execution_count": 10,
     "metadata": {},
     "output_type": "execute_result"
    }
   ],
   "source": [
    "A*X + B*Y + C"
   ]
  },
  {
   "cell_type": "markdown",
   "metadata": {},
   "source": [
    "This result is again better then the original result `-3.2` !"
   ]
  },
  {
   "cell_type": "markdown",
   "metadata": {},
   "source": [
    "***"
   ]
  },
  {
   "cell_type": "markdown",
   "metadata": {},
   "source": [
    "### Simple linear classification algorithm"
   ]
  },
  {
   "cell_type": "markdown",
   "metadata": {},
   "source": [
    "Here, the previous steps are put together in an working algorithm. "
   ]
  },
  {
   "cell_type": "markdown",
   "metadata": {},
   "source": [
    "We can represent the data as a 2-dimensional numpy array"
   ]
  },
  {
   "cell_type": "code",
   "execution_count": 11,
   "metadata": {},
   "outputs": [],
   "source": [
    "data = np.array([[ 1.2, 0.7],\n",
    "                 [-0.3,-0.5],\n",
    "                 [ 3.0, 0.1],\n",
    "                 [-0.1,-1.0],\n",
    "                 [-1.0, 1.1],\n",
    "                 [ 2.1,-3.0]])"
   ]
  },
  {
   "cell_type": "markdown",
   "metadata": {},
   "source": [
    "We can represent the labels as a simple numpy array of numbers"
   ]
  },
  {
   "cell_type": "code",
   "execution_count": 12,
   "metadata": {},
   "outputs": [],
   "source": [
    "labels = np.array([ 1,\n",
    "                   -1,\n",
    "                    1,\n",
    "                   -1,\n",
    "                   -1,\n",
    "                   +1])"
   ]
  },
  {
   "cell_type": "markdown",
   "metadata": {},
   "source": [
    "We can plot the data using the following function:"
   ]
  },
  {
   "cell_type": "code",
   "execution_count": 13,
   "metadata": {
    "code_folding": [
     0
    ]
   },
   "outputs": [],
   "source": [
    "def plot_data(data, labels):\n",
    "    fig = plt.figure(figsize=(5,5))\n",
    "    ax = fig.add_subplot(111)\n",
    "    ax.scatter(data[:,0], data[:,1], c=labels, s=50,  cmap=plt.cm.bwr,zorder=50)\n",
    "    nudge = 0.08\n",
    "    for i in range(data.shape[0]):\n",
    "        d = data[i]\n",
    "        ax.annotate(f'{i}',(d[0]+nudge,d[1]+nudge))\n",
    "    ax.set_aspect('equal', 'datalim')\n",
    "    plt.show()"
   ]
  },
  {
   "cell_type": "code",
   "execution_count": 14,
   "metadata": {
    "scrolled": true
   },
   "outputs": [
    {
     "data": {
      "image/png": "[encoded data removed]",
      "text/plain": [
       "<Figure size 360x360 with 1 Axes>"
      ]
     },
     "metadata": {
      "image/png": {
       "height": 304,
       "width": 316
      },
      "needs_background": "light"
     },
     "output_type": "display_data"
    }
   ],
   "source": [
    "plot_data(data,labels)"
   ]
  },
  {
   "cell_type": "markdown",
   "metadata": {},
   "source": [
    "This is a function to evaluate the accuracy of the training"
   ]
  },
  {
   "cell_type": "code",
   "execution_count": 15,
   "metadata": {
    "code_folding": [
     0,
     15,
     22
    ]
   },
   "outputs": [],
   "source": [
    "def eval_accuracy(X,Y,A,B,C):\n",
    "    num_correct = 0;\n",
    "    data_len = data.shape[0]\n",
    "    \n",
    "    for i in range(data_len):\n",
    "        X,Y = data[i]\n",
    "        true_label = labels[i]\n",
    "        \n",
    "        output = A*X + B*Y + C\n",
    "        predicted_label = 1 if output > 0 else -1\n",
    "        \n",
    "        if (predicted_label == true_label):\n",
    "            num_correct += 1\n",
    "    return num_correct / data_len\n",
    "\n",
    "def create_meshgrid(data):\n",
    "    h = 0.02\n",
    "    x_min, x_max = data[:, 0].min() - 1, data[:, 0].max() + 1\n",
    "    y_min, y_max = data[:, 1].min() - 1, data[:, 1].max() + 1\n",
    "    xx, yy = np.meshgrid(np.arange(x_min, x_max, h), np.arange(y_min, y_max, h))\n",
    "    return (xx,yy,np.ones(xx.shape))\n",
    "\n",
    "def plot_learning_simple(grid,data,A,B,C,iteration, accuracy):\n",
    "    xx,yy,Z = grid\n",
    "    \n",
    "    for i in range(xx.shape[0]): # row\n",
    "        for j in range(yy.shape[1]): #column\n",
    "            X, Y = xx[i][j],yy[i][j]\n",
    "            output = A*X + B*Y + C\n",
    "            output = 1 if output > 0 else -1\n",
    "            Z[i][j] = output\n",
    "\n",
    "    fig = plt.figure(figsize=(5,5))\n",
    "    ax = fig.add_subplot(111)\n",
    "    plt.title(f'accuracy at the iteration {iteration}: {accuracy}')\n",
    "    ax.contourf(xx, yy, Z, cmap=plt.cm.binary, alpha=0.1, zorder=15)\n",
    "    ax.scatter(data[:, 0], data[:, 1], c=labels, s=50,  cmap=plt.cm.bwr,zorder=50)\n",
    "    ax.set_aspect('equal')\n",
    "    nudge = 0.08\n",
    "    for i in range(data.shape[0]):\n",
    "        d = data[i]\n",
    "        ax.annotate(f'{i}',(d[0]+nudge,d[1]+nudge))\n",
    "    plt.xlim(xx.min(), xx.max())\n",
    "    plt.ylim(yy.min(), yy.max())\n",
    "    plt.show()"
   ]
  },
  {
   "cell_type": "markdown",
   "metadata": {},
   "source": [
    "Here is the main algorithm."
   ]
  },
  {
   "cell_type": "code",
   "execution_count": 16,
   "metadata": {},
   "outputs": [],
   "source": [
    "def train_neural_network(data, labels, step_size, no_loops, iter_info):\n",
    "    #A, B, and C are parameters of the function F. Here, they are set to 1, -2, -1\n",
    "    A, B, C = 1, -2, -1\n",
    "    # regularization strenght\n",
    "    reg_strength = 0.2\n",
    "    # this function is used for plotting, it can be ignored\n",
    "    grid = create_meshgrid(data)\n",
    "    \n",
    "    # the main training loop\n",
    "    for i in range(no_loops):\n",
    "        # we randomly select the data point, and store its info into: x,y,label\n",
    "        index = np.random.randint(data.shape[0])\n",
    "        X,Y = data[index]\n",
    "        label = labels[index]\n",
    "        # we calculate the output of the function\n",
    "        output = A*X + B*Y + C\n",
    "        # We need to define how to affect parameters.\n",
    "        # If the label is 1 but the output is smaller than 1, we want to push the score up.\n",
    "        # If the label is -1 but the output is larger than -1, we want to push the score down.\n",
    "        pull = 0.0\n",
    "        if (label == 1 and output < 1):\n",
    "            pull = 1.0\n",
    "        if (label ==-1 and output > -1):\n",
    "            pull = -1.0\n",
    "        # here we update the values with the partial derivatives, and regularization.\n",
    "        # partial derivative of dF/dA is X, dF/dB is Y, and of dF/dC is 1. \n",
    "        # regularization means to pull the parameters A, B, and C towards zero (in the oposite direction)\n",
    "        A += step_size * (X * pull - A*reg_strength) # -A*reg_strength is from the regularization\n",
    "        B += step_size * (Y * pull - B*reg_strength) # -A*reg_strength is from the regularization\n",
    "        C += step_size * pull;\n",
    "        \n",
    "        # after a number of iterations, show training accuracy and plot it\n",
    "        if (i%iter_info==0):\n",
    "            accuracy = eval_accuracy(X,Y,A,B,C)\n",
    "            plot_learning_simple(grid,data,A,B,C,i,accuracy)\n",
    "    # the algorithm returns the learned parameters A, B, and C\n",
    "    return (A,B,C)"
   ]
  },
  {
   "cell_type": "code",
   "execution_count": 17,
   "metadata": {
    "scrolled": false
   },
   "outputs": [
    {
     "data": {
      "image/png": "[encoded data removed]",
      "text/plain": [
       "<Figure size 360x360 with 1 Axes>"
      ]
     },
     "metadata": {
      "image/png": {
       "height": 318,
       "width": 320
      },
      "needs_background": "light"
     },
     "output_type": "display_data"
    },
    {
     "data": {
      "image/png": "[encoded data removed]",
      "text/plain": [
       "<Figure size 360x360 with 1 Axes>"
      ]
     },
     "metadata": {
      "image/png": {
       "height": 318,
       "width": 330
      },
      "needs_background": "light"
     },
     "output_type": "display_data"
    },
    {
     "data": {
      "image/png": "[encoded data removed]",
      "text/plain": [
       "<Figure size 360x360 with 1 Axes>"
      ]
     },
     "metadata": {
      "image/png": {
       "height": 318,
       "width": 305
      },
      "needs_background": "light"
     },
     "output_type": "display_data"
    },
    {
     "data": {
      "image/png": "[encoded data removed]",
      "text/plain": [
       "<Figure size 360x360 with 1 Axes>"
      ]
     },
     "metadata": {
      "image/png": {
       "height": 318,
       "width": 305
      },
      "needs_background": "light"
     },
     "output_type": "display_data"
    },
    {
     "data": {
      "image/png": "[encoded data removed]",
      "text/plain": [
       "<Figure size 360x360 with 1 Axes>"
      ]
     },
     "metadata": {
      "image/png": {
       "height": 318,
       "width": 305
      },
      "needs_background": "light"
     },
     "output_type": "display_data"
    }
   ],
   "source": [
    "train_1 = train_neural_network(data, labels, 0.01, 1000, 200)"
   ]
  },
  {
   "cell_type": "markdown",
   "metadata": {},
   "source": [
    "We can inspect the result by comparing the real label of a data point and the predicted label:"
   ]
  },
  {
   "cell_type": "code",
   "execution_count": 18,
   "metadata": {
    "code_folding": [
     0
    ]
   },
   "outputs": [],
   "source": [
    "def show_prediction_SVM_simple(train, data, labels):\n",
    "    a, b, c = train\n",
    "    for i in range(data.shape[0]):\n",
    "        x,y = data[i]\n",
    "        label = labels[i]\n",
    "        score = a*x + b*y + c\n",
    "        score = 1 if score > 0 else -1\n",
    "        print (f'data point {i}: real label : {label}, pred. label: {score}, {(score==label)}')"
   ]
  },
  {
   "cell_type": "code",
   "execution_count": 19,
   "metadata": {},
   "outputs": [
    {
     "name": "stdout",
     "output_type": "stream",
     "text": [
      "data point 0: real label : 1, pred. label: 1, True\n",
      "data point 1: real label : -1, pred. label: -1, True\n",
      "data point 2: real label : 1, pred. label: 1, True\n",
      "data point 3: real label : -1, pred. label: -1, True\n",
      "data point 4: real label : -1, pred. label: -1, True\n",
      "data point 5: real label : 1, pred. label: 1, True\n"
     ]
    }
   ],
   "source": [
    "show_prediction_SVM_simple(train_1,data,labels)"
   ]
  }
 ],
 "metadata": {
  "kernelspec": {
   "display_name": "Python 3",
   "language": "python",
   "name": "python3"
  },
  "language_info": {
   "codemirror_mode": {
    "name": "ipython",
    "version": 3
   },
   "file_extension": ".py",
   "mimetype": "text/x-python",
   "name": "python",
   "nbconvert_exporter": "python",
   "pygments_lexer": "ipython3",
   "version": "3.7.0"
  }
 },
 "nbformat": 4,
 "nbformat_minor": 2
}
